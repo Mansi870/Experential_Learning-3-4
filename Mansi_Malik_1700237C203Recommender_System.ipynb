{
  "nbformat": 4,
  "nbformat_minor": 0,
  "metadata": {
    "colab": {
      "name": "Recommender System.ipynb",
      "provenance": []
    },
    "kernelspec": {
      "name": "python3",
      "display_name": "Python 3"
    }
  },
  "cells": [
    {
      "cell_type": "markdown",
      "metadata": {
        "id": "Ab9mHUK3djJU"
      },
      "source": [
        "First, let’s have a look at the dataset. It consists of the files: ratings.csv, books.csv, book_tags.csv, tags.csv.\n",
        "\n",
        "As the name suggests ratings.csv contains all users’s ratings of the books (a total of 980k ratings, for 10,000 books, from 53,424 users), while books.csv contains more information on the books such as author, year, etc. book_tags contains all tag_ids users have assigned to that books and corresponding tag_counts, while tags.csv contains the tag_names corresponding to the tag_ids.\n",
        "\n"
      ]
    },
    {
      "cell_type": "code",
      "metadata": {
        "id": "rX4KkMrmjPiX",
        "colab": {
          "base_uri": "https://localhost:8080/"
        },
        "outputId": "07f9037f-dff2-4abc-d5d9-c85f6531aceb"
      },
      "source": [
        "from google.colab import drive\n",
        "\n",
        "drive.mount('/content/gdrive')"
      ],
      "execution_count": 39,
      "outputs": [
        {
          "output_type": "stream",
          "text": [
            "Mounted at /content/gdrive\n"
          ],
          "name": "stdout"
        }
      ]
    },
    {
      "cell_type": "code",
      "metadata": {
        "colab": {
          "base_uri": "https://localhost:8080/"
        },
        "id": "b-rev12jl_Sg",
        "outputId": "76f8fce6-594c-4620-b438-03c53c2bed06"
      },
      "source": [
        "!ls \"/content/gdrive/My Drive/goodbooks-10k/to_read.csv\""
      ],
      "execution_count": 40,
      "outputs": [
        {
          "output_type": "stream",
          "text": [
            "'/content/gdrive/My Drive/goodbooks-10k/to_read.csv'\n"
          ],
          "name": "stdout"
        }
      ]
    },
    {
      "cell_type": "code",
      "metadata": {
        "id": "4ASGHNwtdobs"
      },
      "source": [
        ""
      ],
      "execution_count": null,
      "outputs": []
    },
    {
      "cell_type": "code",
      "metadata": {
        "id": "qh8gqRk5mb14"
      },
      "source": [
        "csv_file=\"/content/gdrive/My Drive/goodbooks-10k/to_read.csv\""
      ],
      "execution_count": 41,
      "outputs": []
    },
    {
      "cell_type": "code",
      "metadata": {
        "id": "NOzQMulCmm_D"
      },
      "source": [
        "import numpy as np\n",
        "import pandas as pd\n",
        "import seaborn as sns\n",
        "\n",
        "import matplotlib.pyplot as plt\n",
        "import statsmodels.formula.api as smf"
      ],
      "execution_count": 42,
      "outputs": []
    },
    {
      "cell_type": "code",
      "metadata": {
        "id": "7M0Ko555mrwh"
      },
      "source": [
        "df = pd.read_csv(csv_file)"
      ],
      "execution_count": 43,
      "outputs": []
    },
    {
      "cell_type": "code",
      "metadata": {
        "colab": {
          "base_uri": "https://localhost:8080/",
          "height": 201
        },
        "id": "QppjG6NLmzDe",
        "outputId": "6b15bf7c-704e-422f-c151-c05dcac4b547"
      },
      "source": [
        "df.head()"
      ],
      "execution_count": 44,
      "outputs": [
        {
          "output_type": "execute_result",
          "data": {
            "text/html": [
              "<div>\n",
              "<style scoped>\n",
              "    .dataframe tbody tr th:only-of-type {\n",
              "        vertical-align: middle;\n",
              "    }\n",
              "\n",
              "    .dataframe tbody tr th {\n",
              "        vertical-align: top;\n",
              "    }\n",
              "\n",
              "    .dataframe thead th {\n",
              "        text-align: right;\n",
              "    }\n",
              "</style>\n",
              "<table border=\"1\" class=\"dataframe\">\n",
              "  <thead>\n",
              "    <tr style=\"text-align: right;\">\n",
              "      <th></th>\n",
              "      <th>user_id</th>\n",
              "      <th>book_id</th>\n",
              "    </tr>\n",
              "  </thead>\n",
              "  <tbody>\n",
              "    <tr>\n",
              "      <th>0</th>\n",
              "      <td>1</td>\n",
              "      <td>112</td>\n",
              "    </tr>\n",
              "    <tr>\n",
              "      <th>1</th>\n",
              "      <td>1</td>\n",
              "      <td>235</td>\n",
              "    </tr>\n",
              "    <tr>\n",
              "      <th>2</th>\n",
              "      <td>1</td>\n",
              "      <td>533</td>\n",
              "    </tr>\n",
              "    <tr>\n",
              "      <th>3</th>\n",
              "      <td>1</td>\n",
              "      <td>1198</td>\n",
              "    </tr>\n",
              "    <tr>\n",
              "      <th>4</th>\n",
              "      <td>1</td>\n",
              "      <td>1874</td>\n",
              "    </tr>\n",
              "  </tbody>\n",
              "</table>\n",
              "</div>"
            ],
            "text/plain": [
              "   user_id  book_id\n",
              "0        1      112\n",
              "1        1      235\n",
              "2        1      533\n",
              "3        1     1198\n",
              "4        1     1874"
            ]
          },
          "metadata": {
            "tags": []
          },
          "execution_count": 44
        }
      ]
    },
    {
      "cell_type": "code",
      "metadata": {
        "colab": {
          "base_uri": "https://localhost:8080/"
        },
        "id": "gmIztYTvm1gJ",
        "outputId": "e6436887-be3a-4bd9-880b-fe88a1ea2827"
      },
      "source": [
        "df.shape"
      ],
      "execution_count": 8,
      "outputs": [
        {
          "output_type": "execute_result",
          "data": {
            "text/plain": [
              "(912705, 2)"
            ]
          },
          "metadata": {
            "tags": []
          },
          "execution_count": 8
        }
      ]
    },
    {
      "cell_type": "code",
      "metadata": {
        "id": "sLO_1vhPnCrD"
      },
      "source": [
        "csv2_file=\"/content/gdrive/My Drive/goodbooks-10k/ratings.csv\""
      ],
      "execution_count": 45,
      "outputs": []
    },
    {
      "cell_type": "code",
      "metadata": {
        "id": "3TbFUvv8oBjZ"
      },
      "source": [
        "df2 = pd.read_csv(csv2_file)"
      ],
      "execution_count": 46,
      "outputs": []
    },
    {
      "cell_type": "code",
      "metadata": {
        "colab": {
          "base_uri": "https://localhost:8080/",
          "height": 201
        },
        "id": "3F1vknpQoLpn",
        "outputId": "7ded907e-ed2b-4fa1-c5b8-b05f605343ba"
      },
      "source": [
        "df2.head()"
      ],
      "execution_count": 11,
      "outputs": [
        {
          "output_type": "execute_result",
          "data": {
            "text/html": [
              "<div>\n",
              "<style scoped>\n",
              "    .dataframe tbody tr th:only-of-type {\n",
              "        vertical-align: middle;\n",
              "    }\n",
              "\n",
              "    .dataframe tbody tr th {\n",
              "        vertical-align: top;\n",
              "    }\n",
              "\n",
              "    .dataframe thead th {\n",
              "        text-align: right;\n",
              "    }\n",
              "</style>\n",
              "<table border=\"1\" class=\"dataframe\">\n",
              "  <thead>\n",
              "    <tr style=\"text-align: right;\">\n",
              "      <th></th>\n",
              "      <th>book_id</th>\n",
              "      <th>user_id</th>\n",
              "      <th>rating</th>\n",
              "    </tr>\n",
              "  </thead>\n",
              "  <tbody>\n",
              "    <tr>\n",
              "      <th>0</th>\n",
              "      <td>1</td>\n",
              "      <td>314</td>\n",
              "      <td>5</td>\n",
              "    </tr>\n",
              "    <tr>\n",
              "      <th>1</th>\n",
              "      <td>1</td>\n",
              "      <td>439</td>\n",
              "      <td>3</td>\n",
              "    </tr>\n",
              "    <tr>\n",
              "      <th>2</th>\n",
              "      <td>1</td>\n",
              "      <td>588</td>\n",
              "      <td>5</td>\n",
              "    </tr>\n",
              "    <tr>\n",
              "      <th>3</th>\n",
              "      <td>1</td>\n",
              "      <td>1169</td>\n",
              "      <td>4</td>\n",
              "    </tr>\n",
              "    <tr>\n",
              "      <th>4</th>\n",
              "      <td>1</td>\n",
              "      <td>1185</td>\n",
              "      <td>4</td>\n",
              "    </tr>\n",
              "  </tbody>\n",
              "</table>\n",
              "</div>"
            ],
            "text/plain": [
              "   book_id  user_id  rating\n",
              "0        1      314       5\n",
              "1        1      439       3\n",
              "2        1      588       5\n",
              "3        1     1169       4\n",
              "4        1     1185       4"
            ]
          },
          "metadata": {
            "tags": []
          },
          "execution_count": 11
        }
      ]
    },
    {
      "cell_type": "code",
      "metadata": {
        "colab": {
          "base_uri": "https://localhost:8080/"
        },
        "id": "5SyU1eEIoOmo",
        "outputId": "3a8fa1bf-19f9-44eb-f434-32c96fe6b029"
      },
      "source": [
        "df2.shape"
      ],
      "execution_count": 12,
      "outputs": [
        {
          "output_type": "execute_result",
          "data": {
            "text/plain": [
              "(981756, 3)"
            ]
          },
          "metadata": {
            "tags": []
          },
          "execution_count": 12
        }
      ]
    },
    {
      "cell_type": "code",
      "metadata": {
        "id": "FeApIerpoWvx"
      },
      "source": [
        "csv3_file=\"/content/gdrive/My Drive/goodbooks-10k/tags.csv\""
      ],
      "execution_count": 47,
      "outputs": []
    },
    {
      "cell_type": "code",
      "metadata": {
        "id": "mmQYtP9yogmx"
      },
      "source": [
        "df3=pd.read_csv(csv3_file)\n"
      ],
      "execution_count": 48,
      "outputs": []
    },
    {
      "cell_type": "code",
      "metadata": {
        "colab": {
          "base_uri": "https://localhost:8080/",
          "height": 201
        },
        "id": "NIk_ZcvwonTR",
        "outputId": "8bcbd2b5-0d76-4ddd-a5f2-5ff01d0bd380"
      },
      "source": [
        "df3.head()"
      ],
      "execution_count": 49,
      "outputs": [
        {
          "output_type": "execute_result",
          "data": {
            "text/html": [
              "<div>\n",
              "<style scoped>\n",
              "    .dataframe tbody tr th:only-of-type {\n",
              "        vertical-align: middle;\n",
              "    }\n",
              "\n",
              "    .dataframe tbody tr th {\n",
              "        vertical-align: top;\n",
              "    }\n",
              "\n",
              "    .dataframe thead th {\n",
              "        text-align: right;\n",
              "    }\n",
              "</style>\n",
              "<table border=\"1\" class=\"dataframe\">\n",
              "  <thead>\n",
              "    <tr style=\"text-align: right;\">\n",
              "      <th></th>\n",
              "      <th>tag_id</th>\n",
              "      <th>tag_name</th>\n",
              "    </tr>\n",
              "  </thead>\n",
              "  <tbody>\n",
              "    <tr>\n",
              "      <th>0</th>\n",
              "      <td>0</td>\n",
              "      <td>-</td>\n",
              "    </tr>\n",
              "    <tr>\n",
              "      <th>1</th>\n",
              "      <td>1</td>\n",
              "      <td>--1-</td>\n",
              "    </tr>\n",
              "    <tr>\n",
              "      <th>2</th>\n",
              "      <td>2</td>\n",
              "      <td>--10-</td>\n",
              "    </tr>\n",
              "    <tr>\n",
              "      <th>3</th>\n",
              "      <td>3</td>\n",
              "      <td>--12-</td>\n",
              "    </tr>\n",
              "    <tr>\n",
              "      <th>4</th>\n",
              "      <td>4</td>\n",
              "      <td>--122-</td>\n",
              "    </tr>\n",
              "  </tbody>\n",
              "</table>\n",
              "</div>"
            ],
            "text/plain": [
              "   tag_id tag_name\n",
              "0       0        -\n",
              "1       1     --1-\n",
              "2       2    --10-\n",
              "3       3    --12-\n",
              "4       4   --122-"
            ]
          },
          "metadata": {
            "tags": []
          },
          "execution_count": 49
        }
      ]
    },
    {
      "cell_type": "code",
      "metadata": {
        "id": "CU-nlS4OEKFa"
      },
      "source": [
        "csv5_file=\"/content/gdrive/My Drive/goodbooks-10k/book_tags.csv\""
      ],
      "execution_count": 136,
      "outputs": []
    },
    {
      "cell_type": "code",
      "metadata": {
        "id": "7gqebiWRERpE"
      },
      "source": [
        "df5=pd.read_csv(csv5_file)"
      ],
      "execution_count": 137,
      "outputs": []
    },
    {
      "cell_type": "code",
      "metadata": {
        "colab": {
          "base_uri": "https://localhost:8080/",
          "height": 201
        },
        "id": "lmwgMVRXEYu0",
        "outputId": "c627a759-660d-4ef0-d5ef-719a2444ebbc"
      },
      "source": [
        "df5.head()"
      ],
      "execution_count": 138,
      "outputs": [
        {
          "output_type": "execute_result",
          "data": {
            "text/html": [
              "<div>\n",
              "<style scoped>\n",
              "    .dataframe tbody tr th:only-of-type {\n",
              "        vertical-align: middle;\n",
              "    }\n",
              "\n",
              "    .dataframe tbody tr th {\n",
              "        vertical-align: top;\n",
              "    }\n",
              "\n",
              "    .dataframe thead th {\n",
              "        text-align: right;\n",
              "    }\n",
              "</style>\n",
              "<table border=\"1\" class=\"dataframe\">\n",
              "  <thead>\n",
              "    <tr style=\"text-align: right;\">\n",
              "      <th></th>\n",
              "      <th>goodreads_book_id</th>\n",
              "      <th>tag_id</th>\n",
              "      <th>count</th>\n",
              "    </tr>\n",
              "  </thead>\n",
              "  <tbody>\n",
              "    <tr>\n",
              "      <th>0</th>\n",
              "      <td>1</td>\n",
              "      <td>30574</td>\n",
              "      <td>167697</td>\n",
              "    </tr>\n",
              "    <tr>\n",
              "      <th>1</th>\n",
              "      <td>1</td>\n",
              "      <td>11305</td>\n",
              "      <td>37174</td>\n",
              "    </tr>\n",
              "    <tr>\n",
              "      <th>2</th>\n",
              "      <td>1</td>\n",
              "      <td>11557</td>\n",
              "      <td>34173</td>\n",
              "    </tr>\n",
              "    <tr>\n",
              "      <th>3</th>\n",
              "      <td>1</td>\n",
              "      <td>8717</td>\n",
              "      <td>12986</td>\n",
              "    </tr>\n",
              "    <tr>\n",
              "      <th>4</th>\n",
              "      <td>1</td>\n",
              "      <td>33114</td>\n",
              "      <td>12716</td>\n",
              "    </tr>\n",
              "  </tbody>\n",
              "</table>\n",
              "</div>"
            ],
            "text/plain": [
              "   goodreads_book_id  tag_id   count\n",
              "0                  1   30574  167697\n",
              "1                  1   11305   37174\n",
              "2                  1   11557   34173\n",
              "3                  1    8717   12986\n",
              "4                  1   33114   12716"
            ]
          },
          "metadata": {
            "tags": []
          },
          "execution_count": 138
        }
      ]
    },
    {
      "cell_type": "code",
      "metadata": {
        "id": "BgYA1jMLtTer"
      },
      "source": [
        "csv4_file=\"/content/gdrive/My Drive/goodbooks-10k/books.csv\""
      ],
      "execution_count": 52,
      "outputs": []
    },
    {
      "cell_type": "code",
      "metadata": {
        "id": "JgQCx47-vyHA"
      },
      "source": [
        "df4=pd.read_csv(csv4_file)\n"
      ],
      "execution_count": 53,
      "outputs": []
    },
    {
      "cell_type": "code",
      "metadata": {
        "colab": {
          "base_uri": "https://localhost:8080/",
          "height": 418
        },
        "id": "0BUHxpUkv457",
        "outputId": "92b0d8ae-f34d-48df-c2c2-7531b371fc7e"
      },
      "source": [
        "df4.head()"
      ],
      "execution_count": 54,
      "outputs": [
        {
          "output_type": "execute_result",
          "data": {
            "text/html": [
              "<div>\n",
              "<style scoped>\n",
              "    .dataframe tbody tr th:only-of-type {\n",
              "        vertical-align: middle;\n",
              "    }\n",
              "\n",
              "    .dataframe tbody tr th {\n",
              "        vertical-align: top;\n",
              "    }\n",
              "\n",
              "    .dataframe thead th {\n",
              "        text-align: right;\n",
              "    }\n",
              "</style>\n",
              "<table border=\"1\" class=\"dataframe\">\n",
              "  <thead>\n",
              "    <tr style=\"text-align: right;\">\n",
              "      <th></th>\n",
              "      <th>id</th>\n",
              "      <th>book_id</th>\n",
              "      <th>best_book_id</th>\n",
              "      <th>work_id</th>\n",
              "      <th>books_count</th>\n",
              "      <th>isbn</th>\n",
              "      <th>isbn13</th>\n",
              "      <th>authors</th>\n",
              "      <th>original_publication_year</th>\n",
              "      <th>original_title</th>\n",
              "      <th>title</th>\n",
              "      <th>language_code</th>\n",
              "      <th>average_rating</th>\n",
              "      <th>ratings_count</th>\n",
              "      <th>work_ratings_count</th>\n",
              "      <th>work_text_reviews_count</th>\n",
              "      <th>ratings_1</th>\n",
              "      <th>ratings_2</th>\n",
              "      <th>ratings_3</th>\n",
              "      <th>ratings_4</th>\n",
              "      <th>ratings_5</th>\n",
              "      <th>image_url</th>\n",
              "      <th>small_image_url</th>\n",
              "    </tr>\n",
              "  </thead>\n",
              "  <tbody>\n",
              "    <tr>\n",
              "      <th>0</th>\n",
              "      <td>1</td>\n",
              "      <td>2767052</td>\n",
              "      <td>2767052</td>\n",
              "      <td>2792775</td>\n",
              "      <td>272</td>\n",
              "      <td>439023483</td>\n",
              "      <td>9.780439e+12</td>\n",
              "      <td>Suzanne Collins</td>\n",
              "      <td>2008.0</td>\n",
              "      <td>The Hunger Games</td>\n",
              "      <td>The Hunger Games (The Hunger Games, #1)</td>\n",
              "      <td>eng</td>\n",
              "      <td>4.34</td>\n",
              "      <td>4780653</td>\n",
              "      <td>4942365</td>\n",
              "      <td>155254</td>\n",
              "      <td>66715</td>\n",
              "      <td>127936</td>\n",
              "      <td>560092</td>\n",
              "      <td>1481305</td>\n",
              "      <td>2706317</td>\n",
              "      <td>https://images.gr-assets.com/books/1447303603m...</td>\n",
              "      <td>https://images.gr-assets.com/books/1447303603s...</td>\n",
              "    </tr>\n",
              "    <tr>\n",
              "      <th>1</th>\n",
              "      <td>2</td>\n",
              "      <td>3</td>\n",
              "      <td>3</td>\n",
              "      <td>4640799</td>\n",
              "      <td>491</td>\n",
              "      <td>439554934</td>\n",
              "      <td>9.780440e+12</td>\n",
              "      <td>J.K. Rowling, Mary GrandPré</td>\n",
              "      <td>1997.0</td>\n",
              "      <td>Harry Potter and the Philosopher's Stone</td>\n",
              "      <td>Harry Potter and the Sorcerer's Stone (Harry P...</td>\n",
              "      <td>eng</td>\n",
              "      <td>4.44</td>\n",
              "      <td>4602479</td>\n",
              "      <td>4800065</td>\n",
              "      <td>75867</td>\n",
              "      <td>75504</td>\n",
              "      <td>101676</td>\n",
              "      <td>455024</td>\n",
              "      <td>1156318</td>\n",
              "      <td>3011543</td>\n",
              "      <td>https://images.gr-assets.com/books/1474154022m...</td>\n",
              "      <td>https://images.gr-assets.com/books/1474154022s...</td>\n",
              "    </tr>\n",
              "    <tr>\n",
              "      <th>2</th>\n",
              "      <td>3</td>\n",
              "      <td>41865</td>\n",
              "      <td>41865</td>\n",
              "      <td>3212258</td>\n",
              "      <td>226</td>\n",
              "      <td>316015849</td>\n",
              "      <td>9.780316e+12</td>\n",
              "      <td>Stephenie Meyer</td>\n",
              "      <td>2005.0</td>\n",
              "      <td>Twilight</td>\n",
              "      <td>Twilight (Twilight, #1)</td>\n",
              "      <td>en-US</td>\n",
              "      <td>3.57</td>\n",
              "      <td>3866839</td>\n",
              "      <td>3916824</td>\n",
              "      <td>95009</td>\n",
              "      <td>456191</td>\n",
              "      <td>436802</td>\n",
              "      <td>793319</td>\n",
              "      <td>875073</td>\n",
              "      <td>1355439</td>\n",
              "      <td>https://images.gr-assets.com/books/1361039443m...</td>\n",
              "      <td>https://images.gr-assets.com/books/1361039443s...</td>\n",
              "    </tr>\n",
              "    <tr>\n",
              "      <th>3</th>\n",
              "      <td>4</td>\n",
              "      <td>2657</td>\n",
              "      <td>2657</td>\n",
              "      <td>3275794</td>\n",
              "      <td>487</td>\n",
              "      <td>61120081</td>\n",
              "      <td>9.780061e+12</td>\n",
              "      <td>Harper Lee</td>\n",
              "      <td>1960.0</td>\n",
              "      <td>To Kill a Mockingbird</td>\n",
              "      <td>To Kill a Mockingbird</td>\n",
              "      <td>eng</td>\n",
              "      <td>4.25</td>\n",
              "      <td>3198671</td>\n",
              "      <td>3340896</td>\n",
              "      <td>72586</td>\n",
              "      <td>60427</td>\n",
              "      <td>117415</td>\n",
              "      <td>446835</td>\n",
              "      <td>1001952</td>\n",
              "      <td>1714267</td>\n",
              "      <td>https://images.gr-assets.com/books/1361975680m...</td>\n",
              "      <td>https://images.gr-assets.com/books/1361975680s...</td>\n",
              "    </tr>\n",
              "    <tr>\n",
              "      <th>4</th>\n",
              "      <td>5</td>\n",
              "      <td>4671</td>\n",
              "      <td>4671</td>\n",
              "      <td>245494</td>\n",
              "      <td>1356</td>\n",
              "      <td>743273567</td>\n",
              "      <td>9.780743e+12</td>\n",
              "      <td>F. Scott Fitzgerald</td>\n",
              "      <td>1925.0</td>\n",
              "      <td>The Great Gatsby</td>\n",
              "      <td>The Great Gatsby</td>\n",
              "      <td>eng</td>\n",
              "      <td>3.89</td>\n",
              "      <td>2683664</td>\n",
              "      <td>2773745</td>\n",
              "      <td>51992</td>\n",
              "      <td>86236</td>\n",
              "      <td>197621</td>\n",
              "      <td>606158</td>\n",
              "      <td>936012</td>\n",
              "      <td>947718</td>\n",
              "      <td>https://images.gr-assets.com/books/1490528560m...</td>\n",
              "      <td>https://images.gr-assets.com/books/1490528560s...</td>\n",
              "    </tr>\n",
              "  </tbody>\n",
              "</table>\n",
              "</div>"
            ],
            "text/plain": [
              "   id  ...                                    small_image_url\n",
              "0   1  ...  https://images.gr-assets.com/books/1447303603s...\n",
              "1   2  ...  https://images.gr-assets.com/books/1474154022s...\n",
              "2   3  ...  https://images.gr-assets.com/books/1361039443s...\n",
              "3   4  ...  https://images.gr-assets.com/books/1361975680s...\n",
              "4   5  ...  https://images.gr-assets.com/books/1490528560s...\n",
              "\n",
              "[5 rows x 23 columns]"
            ]
          },
          "metadata": {
            "tags": []
          },
          "execution_count": 54
        }
      ]
    },
    {
      "cell_type": "code",
      "metadata": {
        "colab": {
          "base_uri": "https://localhost:8080/"
        },
        "id": "2H2DsO5hxfWa",
        "outputId": "6bbf8525-8e77-41b6-eef0-76c3325ccd30"
      },
      "source": [
        "df4.shape"
      ],
      "execution_count": 58,
      "outputs": [
        {
          "output_type": "execute_result",
          "data": {
            "text/plain": [
              "(10000, 23)"
            ]
          },
          "metadata": {
            "tags": []
          },
          "execution_count": 58
        }
      ]
    },
    {
      "cell_type": "markdown",
      "metadata": {
        "id": "tWV86w21FTYq"
      },
      "source": [
        "# **Visualizing data**"
      ]
    },
    {
      "cell_type": "code",
      "metadata": {
        "id": "JOdS4hVLDwbg"
      },
      "source": [
        "joint_tag=pd.merge(df3,df5,left_on='tag_id',right_on='tag_id',how='inner')\n"
      ],
      "execution_count": 225,
      "outputs": []
    },
    {
      "cell_type": "markdown",
      "metadata": {
        "id": "hqAJY_PfFRCi"
      },
      "source": [
        "# **Top 10 rated books**"
      ]
    },
    {
      "cell_type": "code",
      "metadata": {
        "id": "Bw72aVC9E-Cg"
      },
      "source": [
        "top_rated=df4.sort_values('average_rating', ascending=False)\n",
        "top10=top_rated.head(10)\n",
        "f=['title','small_image_url']\n",
        "displ=(top10[f])\n",
        "displ.set_index('title', inplace=True)"
      ],
      "execution_count": 226,
      "outputs": []
    },
    {
      "cell_type": "code",
      "metadata": {
        "colab": {
          "base_uri": "https://localhost:8080/",
          "height": 901
        },
        "id": "h9gyYEqRFF5e",
        "outputId": "a67a2f6c-be48-4718-e970-973ef6d0e436"
      },
      "source": [
        "from IPython.display import Image, HTML\n",
        "\n",
        "def path_to_image_html(path):\n",
        "    '''\n",
        "     This function essentially convert the image url to \n",
        "     '<img src=\"'+ path + '\"/>' format. And one can put any\n",
        "     formatting adjustments to control the height, aspect ratio, size etc.\n",
        "     within as in the below example. \n",
        "    '''\n",
        "\n",
        "    return '<img src=\"'+ path + '\"\"/>'\n",
        "\n",
        "HTML(displ.to_html(escape=False ,formatters=dict(small_image_url=path_to_image_html),justify='center'))"
      ],
      "execution_count": 142,
      "outputs": [
        {
          "output_type": "execute_result",
          "data": {
            "text/html": [
              "<table border=\"1\" class=\"dataframe\">\n",
              "  <thead>\n",
              "    <tr style=\"text-align: center;\">\n",
              "      <th></th>\n",
              "      <th>small_image_url</th>\n",
              "    </tr>\n",
              "    <tr>\n",
              "      <th>title</th>\n",
              "      <th></th>\n",
              "    </tr>\n",
              "  </thead>\n",
              "  <tbody>\n",
              "    <tr>\n",
              "      <th>The Complete Calvin and Hobbes</th>\n",
              "      <td><img src=\"https://images.gr-assets.com/books/1473064526s/24812.jpg\"\"/></td>\n",
              "    </tr>\n",
              "    <tr>\n",
              "      <th>Harry Potter Boxed Set, Books 1-5 (Harry Potter, #1-5)</th>\n",
              "      <td><img src=\"https://s.gr-assets.com/assets/nophoto/book/50x75-a91bf249278a81aabab721ef782c4a74.png\"\"/></td>\n",
              "    </tr>\n",
              "    <tr>\n",
              "      <th>Words of Radiance (The Stormlight Archive, #2)</th>\n",
              "      <td><img src=\"https://images.gr-assets.com/books/1391535251s/17332218.jpg\"\"/></td>\n",
              "    </tr>\n",
              "    <tr>\n",
              "      <th>Mark of the Lion Trilogy</th>\n",
              "      <td><img src=\"https://images.gr-assets.com/books/1349032180s/95602.jpg\"\"/></td>\n",
              "    </tr>\n",
              "    <tr>\n",
              "      <th>ESV Study Bible</th>\n",
              "      <td><img src=\"https://images.gr-assets.com/books/1410151002s/5031805.jpg\"\"/></td>\n",
              "    </tr>\n",
              "    <tr>\n",
              "      <th>It's a Magical World: A Calvin and Hobbes Collection</th>\n",
              "      <td><img src=\"https://images.gr-assets.com/books/1437420710s/24814.jpg\"\"/></td>\n",
              "    </tr>\n",
              "    <tr>\n",
              "      <th>There's Treasure Everywhere: A Calvin and Hobbes Collection</th>\n",
              "      <td><img src=\"https://s.gr-assets.com/assets/nophoto/book/50x75-a91bf249278a81aabab721ef782c4a74.png\"\"/></td>\n",
              "    </tr>\n",
              "    <tr>\n",
              "      <th>Harry Potter Boxset (Harry Potter, #1-7)</th>\n",
              "      <td><img src=\"https://images.gr-assets.com/books/1392579059s/862041.jpg\"\"/></td>\n",
              "    </tr>\n",
              "    <tr>\n",
              "      <th>Harry Potter Collection (Harry Potter, #1-6)</th>\n",
              "      <td><img src=\"https://images.gr-assets.com/books/1328867351s/10.jpg\"\"/></td>\n",
              "    </tr>\n",
              "    <tr>\n",
              "      <th>The Indispensable Calvin and Hobbes</th>\n",
              "      <td><img src=\"https://s.gr-assets.com/assets/nophoto/book/50x75-a91bf249278a81aabab721ef782c4a74.png\"\"/></td>\n",
              "    </tr>\n",
              "  </tbody>\n",
              "</table>"
            ],
            "text/plain": [
              "<IPython.core.display.HTML object>"
            ]
          },
          "metadata": {
            "tags": []
          },
          "execution_count": 142
        }
      ]
    },
    {
      "cell_type": "markdown",
      "metadata": {
        "id": "tBZpEvnYFmUG"
      },
      "source": [
        "\n",
        "# **Top 10 most popular books**\n",
        "\n",
        "\n",
        "\n",
        "\n"
      ]
    },
    {
      "cell_type": "code",
      "metadata": {
        "id": "Hp8J822wFn-6"
      },
      "source": [
        "pop10=df4.sort_values(by='ratings_count', ascending=False)\n",
        "f=['title','small_image_url']\n",
        "pop10=pop10.head(10)\n",
        "\n",
        "pop10=(pop10[f])\n",
        "pop10=pop10.set_index('title')"
      ],
      "execution_count": 144,
      "outputs": []
    },
    {
      "cell_type": "code",
      "metadata": {
        "colab": {
          "base_uri": "https://localhost:8080/",
          "height": 1000
        },
        "id": "X4YcSNt3G7Zq",
        "outputId": "eafcef57-7902-4590-98d2-362f41fa27d6"
      },
      "source": [
        "HTML(pop10.to_html(escape=False ,formatters=dict(small_image_url=path_to_image_html),justify='center'))"
      ],
      "execution_count": 145,
      "outputs": [
        {
          "output_type": "execute_result",
          "data": {
            "text/html": [
              "<table border=\"1\" class=\"dataframe\">\n",
              "  <thead>\n",
              "    <tr style=\"text-align: center;\">\n",
              "      <th></th>\n",
              "      <th>small_image_url</th>\n",
              "    </tr>\n",
              "    <tr>\n",
              "      <th>title</th>\n",
              "      <th></th>\n",
              "    </tr>\n",
              "  </thead>\n",
              "  <tbody>\n",
              "    <tr>\n",
              "      <th>The Hunger Games (The Hunger Games, #1)</th>\n",
              "      <td><img src=\"https://images.gr-assets.com/books/1447303603s/2767052.jpg\"\"/></td>\n",
              "    </tr>\n",
              "    <tr>\n",
              "      <th>Harry Potter and the Sorcerer's Stone (Harry Potter, #1)</th>\n",
              "      <td><img src=\"https://images.gr-assets.com/books/1474154022s/3.jpg\"\"/></td>\n",
              "    </tr>\n",
              "    <tr>\n",
              "      <th>Twilight (Twilight, #1)</th>\n",
              "      <td><img src=\"https://images.gr-assets.com/books/1361039443s/41865.jpg\"\"/></td>\n",
              "    </tr>\n",
              "    <tr>\n",
              "      <th>To Kill a Mockingbird</th>\n",
              "      <td><img src=\"https://images.gr-assets.com/books/1361975680s/2657.jpg\"\"/></td>\n",
              "    </tr>\n",
              "    <tr>\n",
              "      <th>The Great Gatsby</th>\n",
              "      <td><img src=\"https://images.gr-assets.com/books/1490528560s/4671.jpg\"\"/></td>\n",
              "    </tr>\n",
              "    <tr>\n",
              "      <th>The Fault in Our Stars</th>\n",
              "      <td><img src=\"https://images.gr-assets.com/books/1360206420s/11870085.jpg\"\"/></td>\n",
              "    </tr>\n",
              "    <tr>\n",
              "      <th>The Hobbit</th>\n",
              "      <td><img src=\"https://images.gr-assets.com/books/1372847500s/5907.jpg\"\"/></td>\n",
              "    </tr>\n",
              "    <tr>\n",
              "      <th>The Catcher in the Rye</th>\n",
              "      <td><img src=\"https://images.gr-assets.com/books/1398034300s/5107.jpg\"\"/></td>\n",
              "    </tr>\n",
              "    <tr>\n",
              "      <th>Pride and Prejudice</th>\n",
              "      <td><img src=\"https://images.gr-assets.com/books/1320399351s/1885.jpg\"\"/></td>\n",
              "    </tr>\n",
              "    <tr>\n",
              "      <th>Angels & Demons  (Robert Langdon, #1)</th>\n",
              "      <td><img src=\"https://images.gr-assets.com/books/1303390735s/960.jpg\"\"/></td>\n",
              "    </tr>\n",
              "  </tbody>\n",
              "</table>"
            ],
            "text/plain": [
              "<IPython.core.display.HTML object>"
            ]
          },
          "metadata": {
            "tags": []
          },
          "execution_count": 145
        }
      ]
    },
    {
      "cell_type": "markdown",
      "metadata": {
        "id": "3a6WLL0GHbgw"
      },
      "source": [
        "# **Most Common Rating Values**\n",
        "\n",
        "\n"
      ]
    },
    {
      "cell_type": "code",
      "metadata": {
        "colab": {
          "base_uri": "https://localhost:8080/",
          "height": 565
        },
        "id": "j83I3axVHL5i",
        "outputId": "5a9aef31-dd32-4e9e-9e7f-09294518f677"
      },
      "source": [
        "import seaborn as sns\n",
        "plt.figure(figsize=(16,8))\n",
        "sns.distplot(a=df4['average_rating'], kde=True, color='r')"
      ],
      "execution_count": 147,
      "outputs": [
        {
          "output_type": "stream",
          "text": [
            "/usr/local/lib/python3.6/dist-packages/seaborn/distributions.py:2551: FutureWarning: `distplot` is a deprecated function and will be removed in a future version. Please adapt your code to use either `displot` (a figure-level function with similar flexibility) or `histplot` (an axes-level function for histograms).\n",
            "  warnings.warn(msg, FutureWarning)\n"
          ],
          "name": "stderr"
        },
        {
          "output_type": "execute_result",
          "data": {
            "text/plain": [
              "<matplotlib.axes._subplots.AxesSubplot at 0x7f2e7ff9f6a0>"
            ]
          },
          "metadata": {
            "tags": []
          },
          "execution_count": 147
        },
        {
          "output_type": "display_data",
          "data": {
            "image/png": "[encoded data removed]",
            "text/plain": [
              "<Figure size 1152x576 with 1 Axes>"
            ]
          },
          "metadata": {
            "tags": [],
            "needs_background": "light"
          }
        }
      ]
    },
    {
      "cell_type": "markdown",
      "metadata": {
        "id": "agMXv1FOKFdj"
      },
      "source": [
        "# **Therefore, the most common rating is somewhere between 3.5 to 4**"
      ]
    },
    {
      "cell_type": "markdown",
      "metadata": {
        "id": "_psp8xrfeTEE"
      },
      "source": [
        "What influences a book’s rating?\n",
        "\n",
        "Next, we can see, whether we can find any associations of features with a book’s rating. For a quick look, let’s first plot the correlation matrix between the books average_rating and some variables. In summary, we see only small correlations between the features and the average rating (last row), indicating that there are no strong relationships between the rating a book receives and meta-variables (like rating counts etc.). This means that the rating depends more strongly on other features (e.g. the quality of the books itself)."
      ]
    },
    {
      "cell_type": "code",
      "metadata": {
        "id": "z9z7E71JxmWb"
      },
      "source": [
        "df4.ratings_count = df4.ratings_count.astype('int')\n"
      ],
      "execution_count": 62,
      "outputs": []
    },
    {
      "cell_type": "code",
      "metadata": {
        "colab": {
          "base_uri": "https://localhost:8080/",
          "height": 352
        },
        "id": "9xusXpXBx3fw",
        "outputId": "e0d6d49f-f9d5-48b0-d6ba-90d43ec717fa"
      },
      "source": [
        "df4.sort_values(by = 'ratings_count', ascending = False)[['original_title','ratings_count', 'average_rating' ]][0:10]\n"
      ],
      "execution_count": 63,
      "outputs": [
        {
          "output_type": "execute_result",
          "data": {
            "text/html": [
              "<div>\n",
              "<style scoped>\n",
              "    .dataframe tbody tr th:only-of-type {\n",
              "        vertical-align: middle;\n",
              "    }\n",
              "\n",
              "    .dataframe tbody tr th {\n",
              "        vertical-align: top;\n",
              "    }\n",
              "\n",
              "    .dataframe thead th {\n",
              "        text-align: right;\n",
              "    }\n",
              "</style>\n",
              "<table border=\"1\" class=\"dataframe\">\n",
              "  <thead>\n",
              "    <tr style=\"text-align: right;\">\n",
              "      <th></th>\n",
              "      <th>original_title</th>\n",
              "      <th>ratings_count</th>\n",
              "      <th>average_rating</th>\n",
              "    </tr>\n",
              "  </thead>\n",
              "  <tbody>\n",
              "    <tr>\n",
              "      <th>0</th>\n",
              "      <td>The Hunger Games</td>\n",
              "      <td>4780653</td>\n",
              "      <td>4.34</td>\n",
              "    </tr>\n",
              "    <tr>\n",
              "      <th>1</th>\n",
              "      <td>Harry Potter and the Philosopher's Stone</td>\n",
              "      <td>4602479</td>\n",
              "      <td>4.44</td>\n",
              "    </tr>\n",
              "    <tr>\n",
              "      <th>2</th>\n",
              "      <td>Twilight</td>\n",
              "      <td>3866839</td>\n",
              "      <td>3.57</td>\n",
              "    </tr>\n",
              "    <tr>\n",
              "      <th>3</th>\n",
              "      <td>To Kill a Mockingbird</td>\n",
              "      <td>3198671</td>\n",
              "      <td>4.25</td>\n",
              "    </tr>\n",
              "    <tr>\n",
              "      <th>4</th>\n",
              "      <td>The Great Gatsby</td>\n",
              "      <td>2683664</td>\n",
              "      <td>3.89</td>\n",
              "    </tr>\n",
              "    <tr>\n",
              "      <th>5</th>\n",
              "      <td>The Fault in Our Stars</td>\n",
              "      <td>2346404</td>\n",
              "      <td>4.26</td>\n",
              "    </tr>\n",
              "    <tr>\n",
              "      <th>6</th>\n",
              "      <td>The Hobbit or There and Back Again</td>\n",
              "      <td>2071616</td>\n",
              "      <td>4.25</td>\n",
              "    </tr>\n",
              "    <tr>\n",
              "      <th>7</th>\n",
              "      <td>The Catcher in the Rye</td>\n",
              "      <td>2044241</td>\n",
              "      <td>3.79</td>\n",
              "    </tr>\n",
              "    <tr>\n",
              "      <th>9</th>\n",
              "      <td>Pride and Prejudice</td>\n",
              "      <td>2035490</td>\n",
              "      <td>4.24</td>\n",
              "    </tr>\n",
              "    <tr>\n",
              "      <th>8</th>\n",
              "      <td>Angels &amp; Demons</td>\n",
              "      <td>2001311</td>\n",
              "      <td>3.85</td>\n",
              "    </tr>\n",
              "  </tbody>\n",
              "</table>\n",
              "</div>"
            ],
            "text/plain": [
              "                             original_title  ratings_count  average_rating\n",
              "0                          The Hunger Games        4780653            4.34\n",
              "1  Harry Potter and the Philosopher's Stone        4602479            4.44\n",
              "2                                  Twilight        3866839            3.57\n",
              "3                     To Kill a Mockingbird        3198671            4.25\n",
              "4                          The Great Gatsby        2683664            3.89\n",
              "5                    The Fault in Our Stars        2346404            4.26\n",
              "6        The Hobbit or There and Back Again        2071616            4.25\n",
              "7                    The Catcher in the Rye        2044241            3.79\n",
              "9                       Pride and Prejudice        2035490            4.24\n",
              "8                          Angels & Demons         2001311            3.85"
            ]
          },
          "metadata": {
            "tags": []
          },
          "execution_count": 63
        }
      ]
    },
    {
      "cell_type": "markdown",
      "metadata": {
        "id": "kubP6FE8yKdV"
      },
      "source": [
        ""
      ]
    },
    {
      "cell_type": "code",
      "metadata": {
        "id": "EEHuTNtdyK7v"
      },
      "source": [
        "most_ratings = df4.sort_values(by = 'ratings_count', ascending = False)[['original_title','ratings_count', 'average_rating', 'image_url' ]][0:10]"
      ],
      "execution_count": 64,
      "outputs": []
    },
    {
      "cell_type": "markdown",
      "metadata": {
        "id": "tU9f20O-yYgH"
      },
      "source": [
        "# **Printing top books with most number of ratings**\n",
        "\n",
        " \n",
        "\n"
      ]
    },
    {
      "cell_type": "code",
      "metadata": {
        "colab": {
          "base_uri": "https://localhost:8080/",
          "height": 1000
        },
        "id": "ANlrum6RyUAy",
        "outputId": "eceeb32c-27cc-4623-ffdf-71368032ce6e"
      },
      "source": [
        "import pandas as pd\n",
        "from IPython.display import Image, HTML\n",
        "most_ratings['img_html'] = most_ratings['image_url']\\\n",
        "    .str.replace(\n",
        "        '(.*)', \n",
        "        '<img src=\"\\\\1\" style=\"max-height:124px;\"></img>'\n",
        "    )\n",
        "with pd.option_context('display.max_colwidth', 10000):\n",
        "  \n",
        "  display(HTML(most_ratings[['original_title', 'img_html', 'ratings_count', 'average_rating' ]].to_html(escape=False)))"
      ],
      "execution_count": 65,
      "outputs": [
        {
          "output_type": "display_data",
          "data": {
            "text/html": [
              "<table border=\"1\" class=\"dataframe\">\n",
              "  <thead>\n",
              "    <tr style=\"text-align: right;\">\n",
              "      <th></th>\n",
              "      <th>original_title</th>\n",
              "      <th>img_html</th>\n",
              "      <th>ratings_count</th>\n",
              "      <th>average_rating</th>\n",
              "    </tr>\n",
              "  </thead>\n",
              "  <tbody>\n",
              "    <tr>\n",
              "      <th>0</th>\n",
              "      <td>The Hunger Games</td>\n",
              "      <td><img src=\"https://images.gr-assets.com/books/1447303603m/2767052.jpg\" style=\"max-height:124px;\"></img></td>\n",
              "      <td>4780653</td>\n",
              "      <td>4.34</td>\n",
              "    </tr>\n",
              "    <tr>\n",
              "      <th>1</th>\n",
              "      <td>Harry Potter and the Philosopher's Stone</td>\n",
              "      <td><img src=\"https://images.gr-assets.com/books/1474154022m/3.jpg\" style=\"max-height:124px;\"></img></td>\n",
              "      <td>4602479</td>\n",
              "      <td>4.44</td>\n",
              "    </tr>\n",
              "    <tr>\n",
              "      <th>2</th>\n",
              "      <td>Twilight</td>\n",
              "      <td><img src=\"https://images.gr-assets.com/books/1361039443m/41865.jpg\" style=\"max-height:124px;\"></img></td>\n",
              "      <td>3866839</td>\n",
              "      <td>3.57</td>\n",
              "    </tr>\n",
              "    <tr>\n",
              "      <th>3</th>\n",
              "      <td>To Kill a Mockingbird</td>\n",
              "      <td><img src=\"https://images.gr-assets.com/books/1361975680m/2657.jpg\" style=\"max-height:124px;\"></img></td>\n",
              "      <td>3198671</td>\n",
              "      <td>4.25</td>\n",
              "    </tr>\n",
              "    <tr>\n",
              "      <th>4</th>\n",
              "      <td>The Great Gatsby</td>\n",
              "      <td><img src=\"https://images.gr-assets.com/books/1490528560m/4671.jpg\" style=\"max-height:124px;\"></img></td>\n",
              "      <td>2683664</td>\n",
              "      <td>3.89</td>\n",
              "    </tr>\n",
              "    <tr>\n",
              "      <th>5</th>\n",
              "      <td>The Fault in Our Stars</td>\n",
              "      <td><img src=\"https://images.gr-assets.com/books/1360206420m/11870085.jpg\" style=\"max-height:124px;\"></img></td>\n",
              "      <td>2346404</td>\n",
              "      <td>4.26</td>\n",
              "    </tr>\n",
              "    <tr>\n",
              "      <th>6</th>\n",
              "      <td>The Hobbit or There and Back Again</td>\n",
              "      <td><img src=\"https://images.gr-assets.com/books/1372847500m/5907.jpg\" style=\"max-height:124px;\"></img></td>\n",
              "      <td>2071616</td>\n",
              "      <td>4.25</td>\n",
              "    </tr>\n",
              "    <tr>\n",
              "      <th>7</th>\n",
              "      <td>The Catcher in the Rye</td>\n",
              "      <td><img src=\"https://images.gr-assets.com/books/1398034300m/5107.jpg\" style=\"max-height:124px;\"></img></td>\n",
              "      <td>2044241</td>\n",
              "      <td>3.79</td>\n",
              "    </tr>\n",
              "    <tr>\n",
              "      <th>9</th>\n",
              "      <td>Pride and Prejudice</td>\n",
              "      <td><img src=\"https://images.gr-assets.com/books/1320399351m/1885.jpg\" style=\"max-height:124px;\"></img></td>\n",
              "      <td>2035490</td>\n",
              "      <td>4.24</td>\n",
              "    </tr>\n",
              "    <tr>\n",
              "      <th>8</th>\n",
              "      <td>Angels & Demons</td>\n",
              "      <td><img src=\"https://images.gr-assets.com/books/1303390735m/960.jpg\" style=\"max-height:124px;\"></img></td>\n",
              "      <td>2001311</td>\n",
              "      <td>3.85</td>\n",
              "    </tr>\n",
              "  </tbody>\n",
              "</table>"
            ],
            "text/plain": [
              "<IPython.core.display.HTML object>"
            ]
          },
          "metadata": {
            "tags": []
          }
        }
      ]
    },
    {
      "cell_type": "code",
      "metadata": {
        "id": "HtCjgMoUylVt"
      },
      "source": [
        "df4.average_rating = df4.average_rating.astype('float')\n"
      ],
      "execution_count": 66,
      "outputs": []
    },
    {
      "cell_type": "code",
      "metadata": {
        "colab": {
          "base_uri": "https://localhost:8080/",
          "height": 352
        },
        "id": "gTjUquHvzIZR",
        "outputId": "daa71f15-79ef-485d-febd-c38730bbb011"
      },
      "source": [
        "#Top books with top average ratings on goodbooks\n",
        "\n",
        "df4.sort_values(by = 'average_rating', ascending = False)[['original_title','ratings_count', 'average_rating' ]][0:10]"
      ],
      "execution_count": 67,
      "outputs": [
        {
          "output_type": "execute_result",
          "data": {
            "text/html": [
              "<div>\n",
              "<style scoped>\n",
              "    .dataframe tbody tr th:only-of-type {\n",
              "        vertical-align: middle;\n",
              "    }\n",
              "\n",
              "    .dataframe tbody tr th {\n",
              "        vertical-align: top;\n",
              "    }\n",
              "\n",
              "    .dataframe thead th {\n",
              "        text-align: right;\n",
              "    }\n",
              "</style>\n",
              "<table border=\"1\" class=\"dataframe\">\n",
              "  <thead>\n",
              "    <tr style=\"text-align: right;\">\n",
              "      <th></th>\n",
              "      <th>original_title</th>\n",
              "      <th>ratings_count</th>\n",
              "      <th>average_rating</th>\n",
              "    </tr>\n",
              "  </thead>\n",
              "  <tbody>\n",
              "    <tr>\n",
              "      <th>3627</th>\n",
              "      <td>The Complete Calvin and Hobbes</td>\n",
              "      <td>28900</td>\n",
              "      <td>4.82</td>\n",
              "    </tr>\n",
              "    <tr>\n",
              "      <th>3274</th>\n",
              "      <td>NaN</td>\n",
              "      <td>33220</td>\n",
              "      <td>4.77</td>\n",
              "    </tr>\n",
              "    <tr>\n",
              "      <th>861</th>\n",
              "      <td>Words of Radiance</td>\n",
              "      <td>73572</td>\n",
              "      <td>4.77</td>\n",
              "    </tr>\n",
              "    <tr>\n",
              "      <th>8853</th>\n",
              "      <td>Mark of the Lion Trilogy</td>\n",
              "      <td>9081</td>\n",
              "      <td>4.76</td>\n",
              "    </tr>\n",
              "    <tr>\n",
              "      <th>7946</th>\n",
              "      <td>NaN</td>\n",
              "      <td>8953</td>\n",
              "      <td>4.76</td>\n",
              "    </tr>\n",
              "    <tr>\n",
              "      <th>4482</th>\n",
              "      <td>It's a Magical World: A Calvin and Hobbes Coll...</td>\n",
              "      <td>22351</td>\n",
              "      <td>4.75</td>\n",
              "    </tr>\n",
              "    <tr>\n",
              "      <th>6360</th>\n",
              "      <td>There's Treasure Everywhere: A Calvin and Hobb...</td>\n",
              "      <td>16766</td>\n",
              "      <td>4.74</td>\n",
              "    </tr>\n",
              "    <tr>\n",
              "      <th>421</th>\n",
              "      <td>Complete Harry Potter Boxed Set</td>\n",
              "      <td>190050</td>\n",
              "      <td>4.74</td>\n",
              "    </tr>\n",
              "    <tr>\n",
              "      <th>3752</th>\n",
              "      <td>Harry Potter Collection (Harry Potter, #1-6)</td>\n",
              "      <td>24618</td>\n",
              "      <td>4.73</td>\n",
              "    </tr>\n",
              "    <tr>\n",
              "      <th>6919</th>\n",
              "      <td>The Indispensable Calvin and Hobbes: A Calvin ...</td>\n",
              "      <td>14597</td>\n",
              "      <td>4.73</td>\n",
              "    </tr>\n",
              "  </tbody>\n",
              "</table>\n",
              "</div>"
            ],
            "text/plain": [
              "                                         original_title  ...  average_rating\n",
              "3627                     The Complete Calvin and Hobbes  ...            4.82\n",
              "3274                                                NaN  ...            4.77\n",
              "861                                   Words of Radiance  ...            4.77\n",
              "8853                           Mark of the Lion Trilogy  ...            4.76\n",
              "7946                                                NaN  ...            4.76\n",
              "4482  It's a Magical World: A Calvin and Hobbes Coll...  ...            4.75\n",
              "6360  There's Treasure Everywhere: A Calvin and Hobb...  ...            4.74\n",
              "421                     Complete Harry Potter Boxed Set  ...            4.74\n",
              "3752       Harry Potter Collection (Harry Potter, #1-6)  ...            4.73\n",
              "6919  The Indispensable Calvin and Hobbes: A Calvin ...  ...            4.73\n",
              "\n",
              "[10 rows x 3 columns]"
            ]
          },
          "metadata": {
            "tags": []
          },
          "execution_count": 67
        }
      ]
    },
    {
      "cell_type": "code",
      "metadata": {
        "id": "kwL3vVXvzQkp"
      },
      "source": [
        "high_rating_books = df4.sort_values(by = 'average_rating', ascending = False)[['original_title','ratings_count','image_url', 'average_rating' ]][0:10]\n"
      ],
      "execution_count": 69,
      "outputs": []
    },
    {
      "cell_type": "markdown",
      "metadata": {
        "id": "hIzhXnmizaQS"
      },
      "source": [
        "# **Printing top books with highest average ratings**"
      ]
    },
    {
      "cell_type": "code",
      "metadata": {
        "colab": {
          "base_uri": "https://localhost:8080/",
          "height": 1000
        },
        "id": "vBUwiLfVzWP4",
        "outputId": "85e60a38-3fa6-431d-c265-41eac86c5519"
      },
      "source": [
        "high_rating_books['img_html'] = high_rating_books['image_url']\\\n",
        "    .str.replace(\n",
        "        '(.*)', \n",
        "        '<img src=\"\\\\1\" style=\"max-height:124px;\"></img>'\n",
        "    )\n",
        "with pd.option_context('display.max_colwidth', 10000):\n",
        "  \n",
        "  display(HTML(high_rating_books[['original_title', 'img_html','ratings_count', 'average_rating' ]].to_html(escape=False)))"
      ],
      "execution_count": 70,
      "outputs": [
        {
          "output_type": "display_data",
          "data": {
            "text/html": [
              "<table border=\"1\" class=\"dataframe\">\n",
              "  <thead>\n",
              "    <tr style=\"text-align: right;\">\n",
              "      <th></th>\n",
              "      <th>original_title</th>\n",
              "      <th>img_html</th>\n",
              "      <th>ratings_count</th>\n",
              "      <th>average_rating</th>\n",
              "    </tr>\n",
              "  </thead>\n",
              "  <tbody>\n",
              "    <tr>\n",
              "      <th>3627</th>\n",
              "      <td>The Complete Calvin and Hobbes</td>\n",
              "      <td><img src=\"https://images.gr-assets.com/books/1473064526m/24812.jpg\" style=\"max-height:124px;\"></img></td>\n",
              "      <td>28900</td>\n",
              "      <td>4.82</td>\n",
              "    </tr>\n",
              "    <tr>\n",
              "      <th>3274</th>\n",
              "      <td>NaN</td>\n",
              "      <td><img src=\"https://s.gr-assets.com/assets/nophoto/book/111x148-bcc042a9c91a29c1d680899eff700a03.png\" style=\"max-height:124px;\"></img></td>\n",
              "      <td>33220</td>\n",
              "      <td>4.77</td>\n",
              "    </tr>\n",
              "    <tr>\n",
              "      <th>861</th>\n",
              "      <td>Words of Radiance</td>\n",
              "      <td><img src=\"https://images.gr-assets.com/books/1391535251m/17332218.jpg\" style=\"max-height:124px;\"></img></td>\n",
              "      <td>73572</td>\n",
              "      <td>4.77</td>\n",
              "    </tr>\n",
              "    <tr>\n",
              "      <th>8853</th>\n",
              "      <td>Mark of the Lion Trilogy</td>\n",
              "      <td><img src=\"https://images.gr-assets.com/books/1349032180m/95602.jpg\" style=\"max-height:124px;\"></img></td>\n",
              "      <td>9081</td>\n",
              "      <td>4.76</td>\n",
              "    </tr>\n",
              "    <tr>\n",
              "      <th>7946</th>\n",
              "      <td>NaN</td>\n",
              "      <td><img src=\"https://images.gr-assets.com/books/1410151002m/5031805.jpg\" style=\"max-height:124px;\"></img></td>\n",
              "      <td>8953</td>\n",
              "      <td>4.76</td>\n",
              "    </tr>\n",
              "    <tr>\n",
              "      <th>4482</th>\n",
              "      <td>It's a Magical World: A Calvin and Hobbes Collection</td>\n",
              "      <td><img src=\"https://images.gr-assets.com/books/1437420710m/24814.jpg\" style=\"max-height:124px;\"></img></td>\n",
              "      <td>22351</td>\n",
              "      <td>4.75</td>\n",
              "    </tr>\n",
              "    <tr>\n",
              "      <th>6360</th>\n",
              "      <td>There's Treasure Everywhere: A Calvin and Hobbes Collection</td>\n",
              "      <td><img src=\"https://s.gr-assets.com/assets/nophoto/book/111x148-bcc042a9c91a29c1d680899eff700a03.png\" style=\"max-height:124px;\"></img></td>\n",
              "      <td>16766</td>\n",
              "      <td>4.74</td>\n",
              "    </tr>\n",
              "    <tr>\n",
              "      <th>421</th>\n",
              "      <td>Complete Harry Potter Boxed Set</td>\n",
              "      <td><img src=\"https://images.gr-assets.com/books/1392579059m/862041.jpg\" style=\"max-height:124px;\"></img></td>\n",
              "      <td>190050</td>\n",
              "      <td>4.74</td>\n",
              "    </tr>\n",
              "    <tr>\n",
              "      <th>3752</th>\n",
              "      <td>Harry Potter Collection (Harry Potter, #1-6)</td>\n",
              "      <td><img src=\"https://images.gr-assets.com/books/1328867351m/10.jpg\" style=\"max-height:124px;\"></img></td>\n",
              "      <td>24618</td>\n",
              "      <td>4.73</td>\n",
              "    </tr>\n",
              "    <tr>\n",
              "      <th>6919</th>\n",
              "      <td>The Indispensable Calvin and Hobbes: A Calvin and Hobbes Treasury</td>\n",
              "      <td><img src=\"https://s.gr-assets.com/assets/nophoto/book/111x148-bcc042a9c91a29c1d680899eff700a03.png\" style=\"max-height:124px;\"></img></td>\n",
              "      <td>14597</td>\n",
              "      <td>4.73</td>\n",
              "    </tr>\n",
              "  </tbody>\n",
              "</table>"
            ],
            "text/plain": [
              "<IPython.core.display.HTML object>"
            ]
          },
          "metadata": {
            "tags": []
          }
        }
      ]
    },
    {
      "cell_type": "code",
      "metadata": {
        "id": "kyNbfim7zkbD"
      },
      "source": [
        "authors_with_most_books = pd.DataFrame(df4.authors.value_counts()[0:10]).reset_index()\n",
        "authors_with_most_books.columns = ['author', 'number_of_books']\n"
      ],
      "execution_count": 72,
      "outputs": []
    },
    {
      "cell_type": "code",
      "metadata": {
        "colab": {
          "base_uri": "https://localhost:8080/",
          "height": 352
        },
        "id": "i4HMLMNjzwTl",
        "outputId": "d34feeeb-7dfe-4f0b-c4e5-58125b14eeb7"
      },
      "source": [
        "authors_with_most_books\n"
      ],
      "execution_count": 73,
      "outputs": [
        {
          "output_type": "execute_result",
          "data": {
            "text/html": [
              "<div>\n",
              "<style scoped>\n",
              "    .dataframe tbody tr th:only-of-type {\n",
              "        vertical-align: middle;\n",
              "    }\n",
              "\n",
              "    .dataframe tbody tr th {\n",
              "        vertical-align: top;\n",
              "    }\n",
              "\n",
              "    .dataframe thead th {\n",
              "        text-align: right;\n",
              "    }\n",
              "</style>\n",
              "<table border=\"1\" class=\"dataframe\">\n",
              "  <thead>\n",
              "    <tr style=\"text-align: right;\">\n",
              "      <th></th>\n",
              "      <th>author</th>\n",
              "      <th>number_of_books</th>\n",
              "    </tr>\n",
              "  </thead>\n",
              "  <tbody>\n",
              "    <tr>\n",
              "      <th>0</th>\n",
              "      <td>Stephen King</td>\n",
              "      <td>60</td>\n",
              "    </tr>\n",
              "    <tr>\n",
              "      <th>1</th>\n",
              "      <td>Nora Roberts</td>\n",
              "      <td>59</td>\n",
              "    </tr>\n",
              "    <tr>\n",
              "      <th>2</th>\n",
              "      <td>Dean Koontz</td>\n",
              "      <td>47</td>\n",
              "    </tr>\n",
              "    <tr>\n",
              "      <th>3</th>\n",
              "      <td>Terry Pratchett</td>\n",
              "      <td>42</td>\n",
              "    </tr>\n",
              "    <tr>\n",
              "      <th>4</th>\n",
              "      <td>Agatha Christie</td>\n",
              "      <td>39</td>\n",
              "    </tr>\n",
              "    <tr>\n",
              "      <th>5</th>\n",
              "      <td>Meg Cabot</td>\n",
              "      <td>37</td>\n",
              "    </tr>\n",
              "    <tr>\n",
              "      <th>6</th>\n",
              "      <td>James Patterson</td>\n",
              "      <td>36</td>\n",
              "    </tr>\n",
              "    <tr>\n",
              "      <th>7</th>\n",
              "      <td>David Baldacci</td>\n",
              "      <td>34</td>\n",
              "    </tr>\n",
              "    <tr>\n",
              "      <th>8</th>\n",
              "      <td>John Grisham</td>\n",
              "      <td>33</td>\n",
              "    </tr>\n",
              "    <tr>\n",
              "      <th>9</th>\n",
              "      <td>J.D. Robb</td>\n",
              "      <td>33</td>\n",
              "    </tr>\n",
              "  </tbody>\n",
              "</table>\n",
              "</div>"
            ],
            "text/plain": [
              "            author  number_of_books\n",
              "0     Stephen King               60\n",
              "1     Nora Roberts               59\n",
              "2      Dean Koontz               47\n",
              "3  Terry Pratchett               42\n",
              "4  Agatha Christie               39\n",
              "5        Meg Cabot               37\n",
              "6  James Patterson               36\n",
              "7   David Baldacci               34\n",
              "8     John Grisham               33\n",
              "9        J.D. Robb               33"
            ]
          },
          "metadata": {
            "tags": []
          },
          "execution_count": 73
        }
      ]
    },
    {
      "cell_type": "code",
      "metadata": {
        "colab": {
          "base_uri": "https://localhost:8080/",
          "height": 389
        },
        "id": "9VC9U-WO0DZm",
        "outputId": "a8df8180-9ec8-4d95-aa4a-b2cb8864b93c"
      },
      "source": [
        "import matplotlib.pyplot as plt\n",
        "plt.figure(figsize=(12,6))\n",
        "plt.title('Distribution of Average Ratings')\n",
        "df4['average_rating'].hist()\n",
        "display()"
      ],
      "execution_count": 76,
      "outputs": [
        {
          "output_type": "display_data",
          "data": {
            "image/png": "[encoded data removed]",
            "text/plain": [
              "<Figure size 864x432 with 1 Axes>"
            ]
          },
          "metadata": {
            "tags": [],
            "needs_background": "light"
          }
        }
      ]
    },
    {
      "cell_type": "code",
      "metadata": {
        "colab": {
          "base_uri": "https://localhost:8080/"
        },
        "id": "TEqXCpC30I_c",
        "outputId": "da82a64c-0433-44fe-959d-5d261a5a6811"
      },
      "source": [
        "ratings.show(100)\n"
      ],
      "execution_count": 78,
      "outputs": [
        {
          "output_type": "stream",
          "text": [
            "+-------+-------+------+\n",
            "|book_id|user_id|rating|\n",
            "+-------+-------+------+\n",
            "|      1|    314|     5|\n",
            "|      1|    439|     3|\n",
            "|      1|    588|     5|\n",
            "|      1|   1169|     4|\n",
            "|      1|   1185|     4|\n",
            "|      1|   2077|     4|\n",
            "|      1|   2487|     4|\n",
            "|      1|   2900|     5|\n",
            "|      1|   3662|     4|\n",
            "|      1|   3922|     5|\n",
            "|      1|   5379|     5|\n",
            "|      1|   5461|     3|\n",
            "|      1|   5885|     5|\n",
            "|      1|   6630|     5|\n",
            "|      1|   7563|     3|\n",
            "|      1|   9246|     1|\n",
            "|      1|  10140|     4|\n",
            "|      1|  10146|     5|\n",
            "|      1|  10246|     4|\n",
            "|      1|  10335|     4|\n",
            "|      1|  10610|     5|\n",
            "|      1|  10944|     5|\n",
            "|      1|  11854|     4|\n",
            "|      1|  11927|     4|\n",
            "|      1|  12471|     5|\n",
            "|      1|  13282|     5|\n",
            "|      1|  13544|     5|\n",
            "|      1|  15494|     5|\n",
            "|      1|  16377|     4|\n",
            "|      1|  16913|     5|\n",
            "|      1|  17434|     5|\n",
            "|      1|  17663|     5|\n",
            "|      1|  17984|     5|\n",
            "|      1|  18031|     5|\n",
            "|      1|  18313|     5|\n",
            "|      1|  18361|     4|\n",
            "|      1|  20076|     3|\n",
            "|      1|  20467|     3|\n",
            "|      1|  20848|     5|\n",
            "|      1|  21228|     5|\n",
            "|      1|  21487|     4|\n",
            "|      1|  21713|     5|\n",
            "|      1|  22602|     4|\n",
            "|      1|  23576|     4|\n",
            "|      1|  23612|     4|\n",
            "|      1|  24326|     5|\n",
            "|      1|  24389|     4|\n",
            "|      1|  24499|     5|\n",
            "|      1|  24834|     4|\n",
            "|      1|  24845|     5|\n",
            "|      1|  25164|     4|\n",
            "|      1|  25182|     5|\n",
            "|      1|  25214|     4|\n",
            "|      1|  26145|     4|\n",
            "|      1|  26629|     4|\n",
            "|      1|  26661|     4|\n",
            "|      1|  28158|     4|\n",
            "|      1|  28767|     5|\n",
            "|      1|  29123|     3|\n",
            "|      1|  29703|     5|\n",
            "|      1|  30681|     5|\n",
            "|      1|  31001|     4|\n",
            "|      1|  32055|     4|\n",
            "|      1|  32305|     5|\n",
            "|      1|  32592|     4|\n",
            "|      1|  32635|     5|\n",
            "|      1|  32748|     5|\n",
            "|      1|  32923|     5|\n",
            "|      1|  33065|     4|\n",
            "|      1|  33697|     4|\n",
            "|      1|  33716|     5|\n",
            "|      1|  33872|     5|\n",
            "|      1|  33890|     3|\n",
            "|      1|  37284|     5|\n",
            "|      1|  37834|     5|\n",
            "|      1|  38080|     4|\n",
            "|      1|  38082|     5|\n",
            "|      1|  38475|     4|\n",
            "|      1|  39423|     3|\n",
            "|      1|  41074|     3|\n",
            "|      1|  42404|     5|\n",
            "|      1|  43985|     4|\n",
            "|      1|  44243|     2|\n",
            "|      1|  44397|     5|\n",
            "|      1|  45269|     4|\n",
            "|      1|  45493|     5|\n",
            "|      1|  46977|     4|\n",
            "|      1|  47476|     4|\n",
            "|      1|  47746|     5|\n",
            "|      1|  47800|     5|\n",
            "|      1|  48482|     3|\n",
            "|      1|  49298|     4|\n",
            "|      1|  50104|     5|\n",
            "|      1|  50342|     3|\n",
            "|      1|  51166|     4|\n",
            "|      1|  51460|     3|\n",
            "|      1|  51480|     1|\n",
            "|      1|  51838|     5|\n",
            "|      1|  52036|     2|\n",
            "|      1|  53245|     4|\n",
            "+-------+-------+------+\n",
            "only showing top 100 rows\n",
            "\n"
          ],
          "name": "stdout"
        }
      ]
    },
    {
      "cell_type": "code",
      "metadata": {
        "colab": {
          "base_uri": "https://localhost:8080/"
        },
        "id": "rKfPKJb_0R8X",
        "outputId": "cb3e7629-5d76-45d4-f31b-1fd036ce3688"
      },
      "source": [
        "ratings.describe().show()\n"
      ],
      "execution_count": 79,
      "outputs": [
        {
          "output_type": "stream",
          "text": [
            "+-------+-----------------+------------------+------------------+\n",
            "|summary|          book_id|           user_id|            rating|\n",
            "+-------+-----------------+------------------+------------------+\n",
            "|  count|           981756|            981756|            981756|\n",
            "|   mean|4943.275635697668|25616.759933221696|3.8565335989797873|\n",
            "| stddev|2873.207414896197| 15228.33882588251|0.9839408559620116|\n",
            "|    min|                1|                 1|                 1|\n",
            "|    max|            10000|             53424|                 5|\n",
            "+-------+-----------------+------------------+------------------+\n",
            "\n"
          ],
          "name": "stdout"
        }
      ]
    },
    {
      "cell_type": "code",
      "metadata": {
        "colab": {
          "base_uri": "https://localhost:8080/"
        },
        "id": "YsVnNERc0XVY",
        "outputId": "a40c06d1-7de1-4e00-9882-d2d51e7597a1"
      },
      "source": [
        "ratings.groupby('book_id').count().show()\n"
      ],
      "execution_count": 80,
      "outputs": [
        {
          "output_type": "stream",
          "text": [
            "+-------+-----+\n",
            "|book_id|count|\n",
            "+-------+-----+\n",
            "|    148|  100|\n",
            "|    463|  100|\n",
            "|    471|  100|\n",
            "|    496|  100|\n",
            "|    833|  100|\n",
            "|   1088|  100|\n",
            "|   1238|  100|\n",
            "|   1342|  100|\n",
            "|   1580|  100|\n",
            "|   1591|  100|\n",
            "|   1645|  100|\n",
            "|   1829|  100|\n",
            "|   1959|  100|\n",
            "|   2122|  100|\n",
            "|   2142|  100|\n",
            "|   2366|  100|\n",
            "|   2659|  100|\n",
            "|   2866|  100|\n",
            "|   3175|  100|\n",
            "|   3749|  100|\n",
            "+-------+-----+\n",
            "only showing top 20 rows\n",
            "\n"
          ],
          "name": "stdout"
        }
      ]
    },
    {
      "cell_type": "code",
      "metadata": {
        "id": "2QFAFkjgz_I2"
      },
      "source": [
        "ratings = ratings.select(ratings.user_id,\n",
        "                         ratings.book_id,\n",
        "                         ratings.rating.cast(\"double\"))\n"
      ],
      "execution_count": 82,
      "outputs": []
    },
    {
      "cell_type": "code",
      "metadata": {
        "colab": {
          "base_uri": "https://localhost:8080/"
        },
        "id": "pQ4Gm4rK0o7b",
        "outputId": "0001ac41-eadb-4811-ceaf-fbb08f3c1233"
      },
      "source": [
        "ratings.show(5)\n"
      ],
      "execution_count": 83,
      "outputs": [
        {
          "output_type": "stream",
          "text": [
            "+-------+-------+------+\n",
            "|user_id|book_id|rating|\n",
            "+-------+-------+------+\n",
            "|    314|      1|   5.0|\n",
            "|    439|      1|   3.0|\n",
            "|    588|      1|   5.0|\n",
            "|   1169|      1|   4.0|\n",
            "|   1185|      1|   4.0|\n",
            "+-------+-------+------+\n",
            "only showing top 5 rows\n",
            "\n"
          ],
          "name": "stdout"
        }
      ]
    },
    {
      "cell_type": "code",
      "metadata": {
        "colab": {
          "base_uri": "https://localhost:8080/"
        },
        "id": "ZHB88DjA0rk6",
        "outputId": "1976195d-12c2-49b7-c8b7-48af65d7d264"
      },
      "source": [
        "# Count the total number of ratings in the dataset\n",
        "numerator = ratings.select(\"rating\").count()\n",
        "\n",
        "# Count the number of distinct Id's\n",
        "num_users = ratings.select(\"user_id\").distinct().count()\n",
        "num_items = ratings.select(\"book_id\").distinct().count()\n",
        "\n",
        "# Set the denominator equal to the number of users multiplied by the number of items\n",
        "denominator = num_users * num_items\n",
        "\n",
        "# Divide the numerator by the denominator\n",
        "sparsity = (1.0 - (numerator * 1.0)/ denominator) * 100\n",
        "print(\"The ratings dataframe is \", \"%.2f\" % sparsity + \"% empty.\")"
      ],
      "execution_count": 84,
      "outputs": [
        {
          "output_type": "stream",
          "text": [
            "The ratings dataframe is  99.82% empty.\n"
          ],
          "name": "stdout"
        }
      ]
    },
    {
      "cell_type": "code",
      "metadata": {
        "colab": {
          "base_uri": "https://localhost:8080/"
        },
        "id": "sh0ObHAD0zVj",
        "outputId": "7207655c-fe6d-40bb-fbfe-96911fab694a"
      },
      "source": [
        "# Min num ratings \n",
        "print(\"Item with the fewest ratings: \")\n",
        "ratings.groupBy(\"book_id\").count().sort('count').show(10)"
      ],
      "execution_count": 85,
      "outputs": [
        {
          "output_type": "stream",
          "text": [
            "Item with the fewest ratings: \n",
            "+-------+-----+\n",
            "|book_id|count|\n",
            "+-------+-----+\n",
            "|   7803|    8|\n",
            "|   9345|   11|\n",
            "|   9486|   24|\n",
            "|   1935|   34|\n",
            "|   9315|   36|\n",
            "|   9553|   41|\n",
            "|   8181|   44|\n",
            "|   9260|   46|\n",
            "|   9479|   47|\n",
            "|   9705|   48|\n",
            "+-------+-----+\n",
            "only showing top 10 rows\n",
            "\n"
          ],
          "name": "stdout"
        }
      ]
    },
    {
      "cell_type": "code",
      "metadata": {
        "colab": {
          "base_uri": "https://localhost:8080/"
        },
        "id": "41MYVB1s03yp",
        "outputId": "eb5f44ef-681b-4c8d-9ece-809e2f56f776"
      },
      "source": [
        "# Group data by user_id, count ratings\n",
        "(ratings.groupBy(\"user_id\")\n",
        "    .count()\n",
        "    .filter(\"`count` >= 5\")\n",
        "    .orderBy('count', ascending=False)\n",
        "    .show(n = 10))"
      ],
      "execution_count": 86,
      "outputs": [
        {
          "output_type": "stream",
          "text": [
            "+-------+-----+\n",
            "|user_id|count|\n",
            "+-------+-----+\n",
            "|  12874|  200|\n",
            "|  30944|  200|\n",
            "|  28158|  199|\n",
            "|  12381|  199|\n",
            "|  52036|  199|\n",
            "|   6630|  197|\n",
            "|  37834|  197|\n",
            "|  45554|  197|\n",
            "|   9806|  196|\n",
            "|   9668|  196|\n",
            "+-------+-----+\n",
            "only showing top 10 rows\n",
            "\n"
          ],
          "name": "stdout"
        }
      ]
    },
    {
      "cell_type": "code",
      "metadata": {
        "colab": {
          "base_uri": "https://localhost:8080/"
        },
        "id": "Yb8lj47f09BI",
        "outputId": "0e671170-57fd-4c73-fce9-db64c2b1f9da"
      },
      "source": [
        "(ratings.groupBy(\"book_id\")\n",
        "    .count()\n",
        "    .filter(\"`count` > 1\")\n",
        "    .orderBy('count', ascending=False)\n",
        "    .show(n = 10))"
      ],
      "execution_count": 87,
      "outputs": [
        {
          "output_type": "stream",
          "text": [
            "+-------+-----+\n",
            "|book_id|count|\n",
            "+-------+-----+\n",
            "|    148|  100|\n",
            "|    463|  100|\n",
            "|    471|  100|\n",
            "|    496|  100|\n",
            "|    833|  100|\n",
            "|   1088|  100|\n",
            "|   1238|  100|\n",
            "|   1342|  100|\n",
            "|   1580|  100|\n",
            "|   1591|  100|\n",
            "+-------+-----+\n",
            "only showing top 10 rows\n",
            "\n"
          ],
          "name": "stdout"
        }
      ]
    },
    {
      "cell_type": "markdown",
      "metadata": {
        "id": "dv6avO3TeppV"
      },
      "source": [
        "Collaborative filtering is a standard method for product recommendations. To get the general idea consider this example:\n",
        "\n",
        "Imagine you want to read a new book, but you don’t know which one might be worth reading. You have a certain friend, with whom you have talked about some books and you typically have had quite a similar opinion on those books. It would then be a good idea to ask this friend whether he read and liked some books that you don’t know yet. These would be good candidates for your next book.\n",
        "\n",
        "What I described above is exactly the main idea of the so called user-based collaborative filtering. It works as follows:\n",
        "\n",
        "You first identify other users similar to the current user in terms of their ratings on the same set of books.\n",
        "For example, if you liked all the “Lord of the rings” books, you identify users which also liked those books.\n",
        "2. If you found those similar users you take their average rating of books the current user has not yet read …\n",
        "\n",
        "So, how did those “Lord of the rings” lovers rate other books? Maybe they rated “The Hobbit” very high.\n",
        "\n",
        "… and recommend those books with the highest average rating to him.\n",
        "Accordingly, “The Hobbit” has a high average rating and might be recommended to you.\n",
        "\n"
      ]
    },
    {
      "cell_type": "markdown",
      "metadata": {
        "id": "3HUFkBJ_1E71"
      },
      "source": [
        "# **Now, let's split the data into training and test set to use collaborative filtering usingn Alternate Least Square method**\n"
      ]
    },
    {
      "cell_type": "code",
      "metadata": {
        "id": "bWlHDW1v1ANF"
      },
      "source": [
        "(training, test) = ratings.randomSplit([0.8, 0.2])\n"
      ],
      "execution_count": 88,
      "outputs": []
    },
    {
      "cell_type": "code",
      "metadata": {
        "colab": {
          "base_uri": "https://localhost:8080/"
        },
        "id": "wAgRfUNK1Mbt",
        "outputId": "d9c256b5-7d4f-4140-e288-9feb091e6286"
      },
      "source": [
        "test.show(5)\n"
      ],
      "execution_count": 89,
      "outputs": [
        {
          "output_type": "stream",
          "text": [
            "+-------+-------+------+\n",
            "|user_id|book_id|rating|\n",
            "+-------+-------+------+\n",
            "|      1|   4893|   3.0|\n",
            "|      1|   6285|   4.0|\n",
            "|      3|   9014|   1.0|\n",
            "|      7|   1071|   4.0|\n",
            "|      7|   1646|   3.0|\n",
            "+-------+-------+------+\n",
            "only showing top 5 rows\n",
            "\n"
          ],
          "name": "stdout"
        }
      ]
    },
    {
      "cell_type": "markdown",
      "metadata": {
        "id": "B2JeYkhb1SjU"
      },
      "source": [
        "**Let's import ALS and regression evaluator to find RMSE.**\n"
      ]
    },
    {
      "cell_type": "code",
      "metadata": {
        "id": "jYn_lEyV1PrH"
      },
      "source": [
        "from pyspark.ml.evaluation import RegressionEvaluator\n",
        "from pyspark.ml.recommendation import ALS\n",
        "from pyspark.sql import Row"
      ],
      "execution_count": 90,
      "outputs": []
    },
    {
      "cell_type": "code",
      "metadata": {
        "id": "Wg9NAy2B1exc"
      },
      "source": [
        "als = ALS( userCol=\"user_id\", itemCol=\"book_id\", ratingCol=\"rating\",\n",
        "          coldStartStrategy=\"drop\", nonnegative = True, implicitPrefs = False)"
      ],
      "execution_count": 91,
      "outputs": []
    },
    {
      "cell_type": "code",
      "metadata": {
        "colab": {
          "base_uri": "https://localhost:8080/"
        },
        "id": "bRbfzs_X1hfh",
        "outputId": "55b38706-1961-4725-8551-b5c09582b4c7"
      },
      "source": [
        "type(als)\n"
      ],
      "execution_count": 92,
      "outputs": [
        {
          "output_type": "execute_result",
          "data": {
            "text/plain": [
              "pyspark.ml.recommendation.ALS"
            ]
          },
          "metadata": {
            "tags": []
          },
          "execution_count": 92
        }
      ]
    },
    {
      "cell_type": "code",
      "metadata": {
        "id": "daOo4jDL1kgv"
      },
      "source": [
        "from pyspark.ml.tuning import ParamGridBuilder, CrossValidator \n",
        "\n",
        "param_grid = ParamGridBuilder() \\\n",
        "            .addGrid(als.rank, [10, 50, 75, 100]) \\\n",
        "            .addGrid(als.maxIter, [5, 50, 75, 100]) \\\n",
        "            .addGrid(als.regParam, [.01, .05, .1, .15]) \\\n",
        "            .build()\n"
      ],
      "execution_count": 95,
      "outputs": []
    },
    {
      "cell_type": "code",
      "metadata": {
        "colab": {
          "base_uri": "https://localhost:8080/"
        },
        "id": "rkdZ2AIa2CNy",
        "outputId": "0ab79093-e631-4092-9b95-73eb0e4437f3"
      },
      "source": [
        "evaluator = RegressionEvaluator(metricName = \"rmse\", \n",
        "                                labelCol = \"rating\", \n",
        "                                predictionCol = \"prediction\")\n",
        "# Print length of evaluator\n",
        "print (\"Num models to be tested using param_grid: \", len(param_grid))"
      ],
      "execution_count": 96,
      "outputs": [
        {
          "output_type": "stream",
          "text": [
            "Num models to be tested using param_grid:  64\n"
          ],
          "name": "stdout"
        }
      ]
    },
    {
      "cell_type": "code",
      "metadata": {
        "id": "tRCFhH531nPt"
      },
      "source": [
        "# Build cross validation using CrossValidator\n",
        "cv = CrossValidator(estimator = als, \n",
        "                    estimatorParamMaps = param_grid, \n",
        "                    evaluator = evaluator, \n",
        "                    numFolds = 5)\n"
      ],
      "execution_count": 97,
      "outputs": []
    },
    {
      "cell_type": "code",
      "metadata": {
        "colab": {
          "base_uri": "https://localhost:8080/"
        },
        "id": "xIqiik1d17i4",
        "outputId": "cfe26a04-7569-474f-d567-9b7e42af4747"
      },
      "source": [
        "print(cv)\n"
      ],
      "execution_count": 98,
      "outputs": [
        {
          "output_type": "stream",
          "text": [
            "CrossValidator_6ceb979a4dd1\n"
          ],
          "name": "stdout"
        }
      ]
    },
    {
      "cell_type": "code",
      "metadata": {
        "id": "hdLmgKuJ2Gnm"
      },
      "source": [
        "model = als.fit(training)\n"
      ],
      "execution_count": 99,
      "outputs": []
    },
    {
      "cell_type": "code",
      "metadata": {
        "id": "Sod75BE22KsA"
      },
      "source": [
        "predictions = model.transform(test)\n"
      ],
      "execution_count": 100,
      "outputs": []
    },
    {
      "cell_type": "code",
      "metadata": {
        "colab": {
          "base_uri": "https://localhost:8080/"
        },
        "id": "yywJKnD12Rcw",
        "outputId": "2d23c78d-1b96-450e-c799-eaf166a4389f"
      },
      "source": [
        "predictions.show(n = 10)\n"
      ],
      "execution_count": 101,
      "outputs": [
        {
          "output_type": "stream",
          "text": [
            "+-------+-------+------+----------+\n",
            "|user_id|book_id|rating|prediction|\n",
            "+-------+-------+------+----------+\n",
            "|   9165|    148|   3.0| 3.5152016|\n",
            "|   3922|    148|   3.0| 3.9290137|\n",
            "|  13034|    148|   4.0|   3.38119|\n",
            "|  13879|    148|   3.0| 3.3190923|\n",
            "|  13991|    148|   4.0| 3.7030764|\n",
            "|  33065|    148|   3.0|  3.582663|\n",
            "|  50999|    148|   3.0| 3.2119546|\n",
            "|  10111|    148|   3.0| 3.7067566|\n",
            "|  23576|    148|   3.0| 2.8398418|\n",
            "|   2171|    148|   4.0| 3.6491442|\n",
            "+-------+-------+------+----------+\n",
            "only showing top 10 rows\n",
            "\n"
          ],
          "name": "stdout"
        }
      ]
    },
    {
      "cell_type": "markdown",
      "metadata": {
        "id": "uScqjQDj2lAA"
      },
      "source": [
        "\n",
        "Well, the prediction on the test set shows that it is very close to the original rating. Like for example the rating for user_id 14372 was originally 3 and our algorithm predicted it to be 3.13 which is pretty close."
      ]
    },
    {
      "cell_type": "code",
      "metadata": {
        "colab": {
          "base_uri": "https://localhost:8080/"
        },
        "id": "z0iXBv1e2rxt",
        "outputId": "ec05b703-5f04-4ec1-b1b8-7a81028eb6bd"
      },
      "source": [
        "rmse = evaluator.evaluate(predictions)\n",
        "print(\"Root-mean-square error = \" + str(rmse))"
      ],
      "execution_count": 104,
      "outputs": [
        {
          "output_type": "stream",
          "text": [
            "Root-mean-square error = 0.9166268320687976\n"
          ],
          "name": "stdout"
        }
      ]
    },
    {
      "cell_type": "markdown",
      "metadata": {
        "id": "k-X52b-53IOV"
      },
      "source": [
        "Root-mean-square error = 0.913, On average the mean error is .9 that is the difference between the original rating and the predicted rating. Now, let's predict 10 books and ratings for each user."
      ]
    },
    {
      "cell_type": "code",
      "metadata": {
        "id": "DP4ImHgo28Tv"
      },
      "source": [
        "# Generate n recommendations for all users\n",
        "ALS_recommendations = model.recommendForAllUsers(numItems = 10) # n - 10"
      ],
      "execution_count": 105,
      "outputs": []
    },
    {
      "cell_type": "code",
      "metadata": {
        "colab": {
          "base_uri": "https://localhost:8080/"
        },
        "id": "_x6qIk0d3Mkg",
        "outputId": "ac76ff85-8ca7-440d-8884-65d24a301ee4"
      },
      "source": [
        "ALS_recommendations.show(n = 10)\n"
      ],
      "execution_count": 106,
      "outputs": [
        {
          "output_type": "stream",
          "text": [
            "+-------+--------------------+\n",
            "|user_id|     recommendations|\n",
            "+-------+--------------------+\n",
            "|    148|[[5207, 4.613921]...|\n",
            "|    463|[[1338, 4.6616583...|\n",
            "|    471|[[9486, 3.3107471...|\n",
            "|    496|[[1338, 5.671568]...|\n",
            "|    833|[[8249, 5.1748505...|\n",
            "|   1088|[[8548, 4.9143286...|\n",
            "|   1238|[[9531, 5.504425]...|\n",
            "|   1342|[[4868, 5.006364]...|\n",
            "|   1580|[[6189, 4.970873]...|\n",
            "|   1591|[[2831, 5.198179]...|\n",
            "+-------+--------------------+\n",
            "only showing top 10 rows\n",
            "\n"
          ],
          "name": "stdout"
        }
      ]
    },
    {
      "cell_type": "code",
      "metadata": {
        "id": "2DO61C623Oqc"
      },
      "source": [
        "ALS_recommendations.registerTempTable(\"ALS_recs_temp\")\n"
      ],
      "execution_count": 107,
      "outputs": []
    },
    {
      "cell_type": "code",
      "metadata": {
        "colab": {
          "base_uri": "https://localhost:8080/"
        },
        "id": "0NApMywn3YNC",
        "outputId": "b3b83c85-214a-4eb5-8cde-a496575a75b9"
      },
      "source": [
        "clean_recs = spark.sql(\"\"\"SELECT user_id,\n",
        "                            movieIds_and_ratings.book_id AS book_id,\n",
        "                            movieIds_and_ratings.rating AS prediction\n",
        "                        FROM ALS_recs_temp\n",
        "                        LATERAL VIEW explode(recommendations) exploded_table\n",
        "                            AS movieIds_and_ratings\"\"\")\n",
        "clean_recs.show()"
      ],
      "execution_count": 108,
      "outputs": [
        {
          "output_type": "stream",
          "text": [
            "+-------+-------+----------+\n",
            "|user_id|book_id|prediction|\n",
            "+-------+-------+----------+\n",
            "|    148|   5207|  4.613921|\n",
            "|    148|   9566| 4.5464597|\n",
            "|    148|   4706|  4.515669|\n",
            "|    148|   6659| 4.4766703|\n",
            "|    148|   6920|  4.471873|\n",
            "|    148|   4344|   4.46501|\n",
            "|    148|   4483| 4.4535546|\n",
            "|    148|   5344|  4.435657|\n",
            "|    148|   7831| 4.4300427|\n",
            "|    148|   6527|  4.424464|\n",
            "|    463|   1338| 4.6616583|\n",
            "|    463|   6077| 4.5936594|\n",
            "|    463|   7478| 4.5623474|\n",
            "|    463|   5155| 4.5386806|\n",
            "|    463|   4638|   4.51455|\n",
            "|    463|   3953| 4.5087647|\n",
            "|    463|   6522| 4.4774303|\n",
            "|    463|   1025|  4.470688|\n",
            "|    463|   2149| 4.4311438|\n",
            "|    463|   1865|  4.408757|\n",
            "+-------+-------+----------+\n",
            "only showing top 20 rows\n",
            "\n"
          ],
          "name": "stdout"
        }
      ]
    },
    {
      "cell_type": "code",
      "metadata": {
        "colab": {
          "base_uri": "https://localhost:8080/"
        },
        "id": "sSBOtTHQ30XF",
        "outputId": "730a0a7d-3851-4e45-ff54-db4fb3a91f5c"
      },
      "source": [
        "# Recommendations for unread books\n",
        "(clean_recs.join(ratings, [\"user_id\", \"book_id\"], \"left\")\n",
        "    .filter(ratings.rating.isNull()).show())"
      ],
      "execution_count": 109,
      "outputs": [
        {
          "output_type": "stream",
          "text": [
            "+-------+-------+----------+------+\n",
            "|user_id|book_id|prediction|rating|\n",
            "+-------+-------+----------+------+\n",
            "|      1|   2667| 3.9525743|  null|\n",
            "|     41|   6425|  5.154256|  null|\n",
            "|     55|   4107|  4.258904|  null|\n",
            "|     69|   5269| 5.1985683|  null|\n",
            "|     78|   5134| 2.0409384|  null|\n",
            "|     90|   8099|  4.925486|  null|\n",
            "|     91|    780| 4.5384736|  null|\n",
            "|    111|   8187|  4.873475|  null|\n",
            "|    123|   2940| 4.4651623|  null|\n",
            "|    133|    562|  5.084606|  null|\n",
            "|    149|   3435|  4.605671|  null|\n",
            "|    198|   3746| 3.8638682|  null|\n",
            "|    204|   9967|  4.722576|  null|\n",
            "|    208|   8995| 4.4162664|  null|\n",
            "|    227|   4674| 3.8169584|  null|\n",
            "|    257|   6457| 2.0074291|  null|\n",
            "|    266|   6583|  4.318172|  null|\n",
            "|    280|   5207| 4.8847136|  null|\n",
            "|    284|   7401|  5.178077|  null|\n",
            "|    290|   8187| 5.5795903|  null|\n",
            "+-------+-------+----------+------+\n",
            "only showing top 20 rows\n",
            "\n"
          ],
          "name": "stdout"
        }
      ]
    },
    {
      "cell_type": "code",
      "metadata": {
        "id": "DlkC1jSp4BQR"
      },
      "source": [
        "new_books = (clean_recs.join(ratings, [\"user_id\", \"book_id\"], \"left\")\n",
        "    .filter(ratings.rating.isNull()))"
      ],
      "execution_count": 111,
      "outputs": []
    },
    {
      "cell_type": "code",
      "metadata": {
        "colab": {
          "base_uri": "https://localhost:8080/"
        },
        "id": "TiJ8Yb_k4kTo",
        "outputId": "8297528f-169d-418c-a26d-27a484ba6755"
      },
      "source": [
        "print(new_books.count())\n"
      ],
      "execution_count": 112,
      "outputs": [
        {
          "output_type": "stream",
          "text": [
            "521897\n"
          ],
          "name": "stdout"
        }
      ]
    },
    {
      "cell_type": "code",
      "metadata": {
        "colab": {
          "base_uri": "https://localhost:8080/"
        },
        "id": "4-4phEBh4kvg",
        "outputId": "bc1575a5-da37-40b9-a762-92972efc247a"
      },
      "source": [
        "new_books.show(5)\n"
      ],
      "execution_count": 113,
      "outputs": [
        {
          "output_type": "stream",
          "text": [
            "+-------+-------+----------+------+\n",
            "|user_id|book_id|prediction|rating|\n",
            "+-------+-------+----------+------+\n",
            "|      1|   2667| 3.9525743|  null|\n",
            "|     41|   6425|  5.154256|  null|\n",
            "|     55|   4107|  4.258904|  null|\n",
            "|     69|   5269| 5.1985683|  null|\n",
            "|     78|   5134| 2.0409384|  null|\n",
            "+-------+-------+----------+------+\n",
            "only showing top 5 rows\n",
            "\n"
          ],
          "name": "stdout"
        }
      ]
    },
    {
      "cell_type": "markdown",
      "metadata": {
        "id": "76l9r6lDMiYH"
      },
      "source": [
        " Content Based\n",
        "\n",
        "Content based filtering on the following factors:\n",
        "\n",
        "Title\n",
        "\n",
        "Authors\n",
        "\n",
        "Average rating\n"
      ]
    },
    {
      "cell_type": "code",
      "metadata": {
        "id": "jlgRoNeZAP2R"
      },
      "source": [
        "fillnabooks= df4.fillna('')"
      ],
      "execution_count": 149,
      "outputs": []
    },
    {
      "cell_type": "code",
      "metadata": {
        "id": "ufzvY5qrNgk4"
      },
      "source": [
        "def clean_data(x):\n",
        "        return str.lower(x.replace(\" \", \"\"))"
      ],
      "execution_count": 150,
      "outputs": []
    },
    {
      "cell_type": "code",
      "metadata": {
        "id": "bQi0Uj9zNnwq"
      },
      "source": [
        "features=['original_title','authors','average_rating']\n",
        "fillednabooks=fillnabooks[features]"
      ],
      "execution_count": 151,
      "outputs": []
    },
    {
      "cell_type": "code",
      "metadata": {
        "colab": {
          "base_uri": "https://localhost:8080/"
        },
        "id": "CzHxydqSNq-k",
        "outputId": "30470619-7328-4ad3-adda-eb570e6379de"
      },
      "source": [
        "fillednabooks = fillednabooks.astype(str)\n",
        "fillednabooks.dtypes"
      ],
      "execution_count": 152,
      "outputs": [
        {
          "output_type": "execute_result",
          "data": {
            "text/plain": [
              "original_title    object\n",
              "authors           object\n",
              "average_rating    object\n",
              "dtype: object"
            ]
          },
          "metadata": {
            "tags": []
          },
          "execution_count": 152
        }
      ]
    },
    {
      "cell_type": "code",
      "metadata": {
        "id": "E76L8vsPNvHT"
      },
      "source": [
        "def create_soup(x):\n",
        "    return x['original_title']+ ' ' + x['authors'] + ' ' + x['average_rating']"
      ],
      "execution_count": 153,
      "outputs": []
    },
    {
      "cell_type": "code",
      "metadata": {
        "id": "wQ7K7JbtOvBl"
      },
      "source": [
        "fillednabooks['soup'] = fillednabooks.apply(create_soup, axis=1)\n"
      ],
      "execution_count": 154,
      "outputs": []
    },
    {
      "cell_type": "code",
      "metadata": {
        "id": "rGLa5qdzP3a-"
      },
      "source": [
        "from sklearn.feature_extraction.text import CountVectorizer\n",
        "from sklearn.metrics.pairwise import cosine_similarity\n",
        "\n",
        "count = CountVectorizer(stop_words='english')\n",
        "count_matrix = count.fit_transform(fillednabooks['soup'])\n",
        "\n",
        "cosine_sim2 = cosine_similarity(count_matrix, count_matrix)"
      ],
      "execution_count": 156,
      "outputs": []
    },
    {
      "cell_type": "code",
      "metadata": {
        "id": "8MZE79bqQOS1"
      },
      "source": [
        "fillednabooks=fillednabooks.reset_index()\n",
        "indices = pd.Series(fillednabooks.index, index=fillednabooks['original_title'])\n",
        "\n"
      ],
      "execution_count": 157,
      "outputs": []
    },
    {
      "cell_type": "code",
      "metadata": {
        "id": "P5zF-Y63RH_S"
      },
      "source": [
        "def get_recommendations_new(title, cosine_sim=cosine_sim2):\n",
        "    title=title.replace(' ','').lower()\n",
        "    idx = indices[title]\n",
        "\n",
        "    # Get the pairwsie similarity scores of all movies with that movie\n",
        "    sim_scores = list(enumerate(cosine_sim[idx]))\n",
        "\n",
        "    # Sort the movies based on the similarity scores\n",
        "    sim_scores = sorted(sim_scores, key=lambda x: x[1], reverse=True)\n",
        "\n",
        "    # Get the scores of the 10 most similar movies\n",
        "    sim_scores = sim_scores[1:11]\n",
        "\n",
        "    # Get the movie indices\n",
        "    movie_indices = [i[0] for i in sim_scores]\n",
        "\n",
        "    # Return the top 10 most similar movies\n",
        "    return list(books['original_title'].iloc[movie_indices])"
      ],
      "execution_count": 160,
      "outputs": []
    },
    {
      "cell_type": "code",
      "metadata": {
        "id": "Yj9mGzxyQraZ"
      },
      "source": [
        "usecols=['book_id', 'original_title']\n",
        "books_col=df4[usecols]"
      ],
      "execution_count": 163,
      "outputs": []
    },
    {
      "cell_type": "code",
      "metadata": {
        "colab": {
          "base_uri": "https://localhost:8080/",
          "height": 411
        },
        "id": "NONXALRtR3Ao",
        "outputId": "3d5cc423-4f53-4c8e-8b64-981b7b877d30"
      },
      "source": [
        "books_col.dropna()\n",
        "\n"
      ],
      "execution_count": 164,
      "outputs": [
        {
          "output_type": "execute_result",
          "data": {
            "text/html": [
              "<div>\n",
              "<style scoped>\n",
              "    .dataframe tbody tr th:only-of-type {\n",
              "        vertical-align: middle;\n",
              "    }\n",
              "\n",
              "    .dataframe tbody tr th {\n",
              "        vertical-align: top;\n",
              "    }\n",
              "\n",
              "    .dataframe thead th {\n",
              "        text-align: right;\n",
              "    }\n",
              "</style>\n",
              "<table border=\"1\" class=\"dataframe\">\n",
              "  <thead>\n",
              "    <tr style=\"text-align: right;\">\n",
              "      <th></th>\n",
              "      <th>book_id</th>\n",
              "      <th>original_title</th>\n",
              "    </tr>\n",
              "  </thead>\n",
              "  <tbody>\n",
              "    <tr>\n",
              "      <th>0</th>\n",
              "      <td>2767052</td>\n",
              "      <td>The Hunger Games</td>\n",
              "    </tr>\n",
              "    <tr>\n",
              "      <th>1</th>\n",
              "      <td>3</td>\n",
              "      <td>Harry Potter and the Philosopher's Stone</td>\n",
              "    </tr>\n",
              "    <tr>\n",
              "      <th>2</th>\n",
              "      <td>41865</td>\n",
              "      <td>Twilight</td>\n",
              "    </tr>\n",
              "    <tr>\n",
              "      <th>3</th>\n",
              "      <td>2657</td>\n",
              "      <td>To Kill a Mockingbird</td>\n",
              "    </tr>\n",
              "    <tr>\n",
              "      <th>4</th>\n",
              "      <td>4671</td>\n",
              "      <td>The Great Gatsby</td>\n",
              "    </tr>\n",
              "    <tr>\n",
              "      <th>...</th>\n",
              "      <td>...</td>\n",
              "      <td>...</td>\n",
              "    </tr>\n",
              "    <tr>\n",
              "      <th>9995</th>\n",
              "      <td>7130616</td>\n",
              "      <td>Bayou Moon</td>\n",
              "    </tr>\n",
              "    <tr>\n",
              "      <th>9996</th>\n",
              "      <td>208324</td>\n",
              "      <td>Means of Ascent</td>\n",
              "    </tr>\n",
              "    <tr>\n",
              "      <th>9997</th>\n",
              "      <td>77431</td>\n",
              "      <td>The Mauritius Command</td>\n",
              "    </tr>\n",
              "    <tr>\n",
              "      <th>9998</th>\n",
              "      <td>8565083</td>\n",
              "      <td>Cinderella Ate My Daughter: Dispatches from th...</td>\n",
              "    </tr>\n",
              "    <tr>\n",
              "      <th>9999</th>\n",
              "      <td>8914</td>\n",
              "      <td>The First World War</td>\n",
              "    </tr>\n",
              "  </tbody>\n",
              "</table>\n",
              "<p>9415 rows × 2 columns</p>\n",
              "</div>"
            ],
            "text/plain": [
              "      book_id                                     original_title\n",
              "0     2767052                                   The Hunger Games\n",
              "1           3           Harry Potter and the Philosopher's Stone\n",
              "2       41865                                           Twilight\n",
              "3        2657                              To Kill a Mockingbird\n",
              "4        4671                                   The Great Gatsby\n",
              "...       ...                                                ...\n",
              "9995  7130616                                         Bayou Moon\n",
              "9996   208324                                   Means of Ascent \n",
              "9997    77431                              The Mauritius Command\n",
              "9998  8565083  Cinderella Ate My Daughter: Dispatches from th...\n",
              "9999     8914                                The First World War\n",
              "\n",
              "[9415 rows x 2 columns]"
            ]
          },
          "metadata": {
            "tags": []
          },
          "execution_count": 164
        }
      ]
    },
    {
      "cell_type": "code",
      "metadata": {
        "colab": {
          "base_uri": "https://localhost:8080/",
          "height": 201
        },
        "id": "rBbGYx8DStXm",
        "outputId": "5310d375-f5f9-4754-db6d-35618d6fadde"
      },
      "source": [
        "books_title = df4[['book_id', 'title']]\n",
        "books_title.head()"
      ],
      "execution_count": 167,
      "outputs": [
        {
          "output_type": "execute_result",
          "data": {
            "text/html": [
              "<div>\n",
              "<style scoped>\n",
              "    .dataframe tbody tr th:only-of-type {\n",
              "        vertical-align: middle;\n",
              "    }\n",
              "\n",
              "    .dataframe tbody tr th {\n",
              "        vertical-align: top;\n",
              "    }\n",
              "\n",
              "    .dataframe thead th {\n",
              "        text-align: right;\n",
              "    }\n",
              "</style>\n",
              "<table border=\"1\" class=\"dataframe\">\n",
              "  <thead>\n",
              "    <tr style=\"text-align: right;\">\n",
              "      <th></th>\n",
              "      <th>book_id</th>\n",
              "      <th>title</th>\n",
              "    </tr>\n",
              "  </thead>\n",
              "  <tbody>\n",
              "    <tr>\n",
              "      <th>0</th>\n",
              "      <td>2767052</td>\n",
              "      <td>The Hunger Games (The Hunger Games, #1)</td>\n",
              "    </tr>\n",
              "    <tr>\n",
              "      <th>1</th>\n",
              "      <td>3</td>\n",
              "      <td>Harry Potter and the Sorcerer's Stone (Harry P...</td>\n",
              "    </tr>\n",
              "    <tr>\n",
              "      <th>2</th>\n",
              "      <td>41865</td>\n",
              "      <td>Twilight (Twilight, #1)</td>\n",
              "    </tr>\n",
              "    <tr>\n",
              "      <th>3</th>\n",
              "      <td>2657</td>\n",
              "      <td>To Kill a Mockingbird</td>\n",
              "    </tr>\n",
              "    <tr>\n",
              "      <th>4</th>\n",
              "      <td>4671</td>\n",
              "      <td>The Great Gatsby</td>\n",
              "    </tr>\n",
              "  </tbody>\n",
              "</table>\n",
              "</div>"
            ],
            "text/plain": [
              "   book_id                                              title\n",
              "0  2767052            The Hunger Games (The Hunger Games, #1)\n",
              "1        3  Harry Potter and the Sorcerer's Stone (Harry P...\n",
              "2    41865                            Twilight (Twilight, #1)\n",
              "3     2657                              To Kill a Mockingbird\n",
              "4     4671                                   The Great Gatsby"
            ]
          },
          "metadata": {
            "tags": []
          },
          "execution_count": 167
        }
      ]
    },
    {
      "cell_type": "markdown",
      "metadata": {
        "id": "idNVF_XlUmTj"
      },
      "source": [
        "Initialize & Fit CountVectorizer into 'title' -> to create count_matrix this is useful for cosine similarity\n",
        "\n",
        "Check all words/ features in the vocabulary\n",
        "\n",
        "Generate cosine similarity"
      ]
    },
    {
      "cell_type": "code",
      "metadata": {
        "colab": {
          "base_uri": "https://localhost:8080/"
        },
        "id": "uzSzE0bASGir",
        "outputId": "8affe13e-8e61-4a20-9a3a-22333f4025db"
      },
      "source": [
        "from sklearn.feature_extraction.text import CountVectorizer\n",
        "\n",
        "#initialize vectorizer\n",
        "vect = CountVectorizer(analyzer = 'word', ngram_range = (1,2), stop_words = 'english', min_df = 0.002) #min_df = rare words, max_df = most used words\n",
        "#ngram_range = (1,2) - if used more than  1(value), lots of features or noise\n",
        "\n",
        "#Fit into the title\n",
        "vect.fit(books_title['title'])\n",
        "title_matrix = vect.transform(books_title['title'])\n",
        "title_matrix.shape"
      ],
      "execution_count": 168,
      "outputs": [
        {
          "output_type": "execute_result",
          "data": {
            "text/plain": [
              "(10000, 261)"
            ]
          },
          "metadata": {
            "tags": []
          },
          "execution_count": 168
        }
      ]
    },
    {
      "cell_type": "code",
      "metadata": {
        "colab": {
          "base_uri": "https://localhost:8080/"
        },
        "id": "9A06hdLQSgjE",
        "outputId": "b922d3e9-0204-4e74-b094-003cc6475bef"
      },
      "source": [
        "#Lets find vocabulary/features\n",
        "features = vect.get_feature_names()\n",
        "features"
      ],
      "execution_count": 169,
      "outputs": [
        {
          "output_type": "execute_result",
          "data": {
            "text/plain": [
              "['01',\n",
              " '10',\n",
              " '11',\n",
              " '12',\n",
              " '13',\n",
              " '14',\n",
              " '15',\n",
              " '16',\n",
              " '39',\n",
              " 'adventures',\n",
              " 'alex',\n",
              " 'alex cross',\n",
              " 'america',\n",
              " 'american',\n",
              " 'angel',\n",
              " 'angels',\n",
              " 'anita',\n",
              " 'anita blake',\n",
              " 'apprentice',\n",
              " 'art',\n",
              " 'bad',\n",
              " 'batman',\n",
              " 'beautiful',\n",
              " 'beauty',\n",
              " 'best',\n",
              " 'big',\n",
              " 'black',\n",
              " 'blake',\n",
              " 'blake vampire',\n",
              " 'blood',\n",
              " 'blue',\n",
              " 'body',\n",
              " 'bone',\n",
              " 'bones',\n",
              " 'book',\n",
              " 'books',\n",
              " 'born',\n",
              " 'bosch',\n",
              " 'bosch universe',\n",
              " 'boy',\n",
              " 'boys',\n",
              " 'broken',\n",
              " 'brothers',\n",
              " 'case',\n",
              " 'cat',\n",
              " 'child',\n",
              " 'children',\n",
              " 'chronicles',\n",
              " 'circle',\n",
              " 'city',\n",
              " 'club',\n",
              " 'complete',\n",
              " 'confessions',\n",
              " 'cross',\n",
              " 'cycle',\n",
              " 'dance',\n",
              " 'dark',\n",
              " 'dark hunter',\n",
              " 'darkest',\n",
              " 'darkness',\n",
              " 'daughter',\n",
              " 'davenport',\n",
              " 'dawn',\n",
              " 'day',\n",
              " 'days',\n",
              " 'dead',\n",
              " 'death',\n",
              " 'death death',\n",
              " 'detective',\n",
              " 'devil',\n",
              " 'diaries',\n",
              " 'diary',\n",
              " 'die',\n",
              " 'discworld',\n",
              " 'dog',\n",
              " 'don',\n",
              " 'dragon',\n",
              " 'dream',\n",
              " 'dreams',\n",
              " 'earth',\n",
              " 'empire',\n",
              " 'end',\n",
              " 'fall',\n",
              " 'fallen',\n",
              " 'family',\n",
              " 'fear',\n",
              " 'files',\n",
              " 'food',\n",
              " 'forever',\n",
              " 'forgotten',\n",
              " 'forgotten realms',\n",
              " 'game',\n",
              " 'garden',\n",
              " 'girl',\n",
              " 'girls',\n",
              " 'glass',\n",
              " 'god',\n",
              " 'gods',\n",
              " 'golden',\n",
              " 'gone',\n",
              " 'good',\n",
              " 'grave',\n",
              " 'great',\n",
              " 'green',\n",
              " 'guide',\n",
              " 'hard',\n",
              " 'harry',\n",
              " 'harry bosch',\n",
              " 'harry potter',\n",
              " 'heart',\n",
              " 'heaven',\n",
              " 'hercule',\n",
              " 'hercule poirot',\n",
              " 'hidden',\n",
              " 'high',\n",
              " 'history',\n",
              " 'home',\n",
              " 'house',\n",
              " 'human',\n",
              " 'hunter',\n",
              " 'ice',\n",
              " 'immortals',\n",
              " 'inside',\n",
              " 'island',\n",
              " 'jack',\n",
              " 'jack reacher',\n",
              " 'john',\n",
              " 'journey',\n",
              " 'just',\n",
              " 'kay',\n",
              " 'kay scarpetta',\n",
              " 'key',\n",
              " 'king',\n",
              " 'kinsey',\n",
              " 'kinsey millhone',\n",
              " 'kiss',\n",
              " 'knight',\n",
              " 'know',\n",
              " 'lady',\n",
              " 'left',\n",
              " 'legacy',\n",
              " 'legend',\n",
              " 'life',\n",
              " 'light',\n",
              " 'like',\n",
              " 'little',\n",
              " 'lives',\n",
              " 'living',\n",
              " 'long',\n",
              " 'lord',\n",
              " 'lost',\n",
              " 'love',\n",
              " 'lucas',\n",
              " 'lucas davenport',\n",
              " 'magic',\n",
              " 'magician',\n",
              " 'man',\n",
              " 'memoir',\n",
              " 'men',\n",
              " 'mercy',\n",
              " 'midnight',\n",
              " 'millhone',\n",
              " 'mind',\n",
              " 'miss',\n",
              " 'moon',\n",
              " 'mr',\n",
              " 'murder',\n",
              " 'new',\n",
              " 'night',\n",
              " 'novel',\n",
              " 'novels',\n",
              " 'old',\n",
              " 'people',\n",
              " 'perfect',\n",
              " 'plum',\n",
              " 'poems',\n",
              " 'poirot',\n",
              " 'potter',\n",
              " 'power',\n",
              " 'pretty',\n",
              " 'prey',\n",
              " 'prey lucas',\n",
              " 'prince',\n",
              " 'princess',\n",
              " 'queen',\n",
              " 'reacher',\n",
              " 'realms',\n",
              " 'red',\n",
              " 'rising',\n",
              " 'river',\n",
              " 'road',\n",
              " 'rock',\n",
              " 'rose',\n",
              " 'saga',\n",
              " 'scarpetta',\n",
              " 'school',\n",
              " 'science',\n",
              " 'sea',\n",
              " 'second',\n",
              " 'secret',\n",
              " 'secrets',\n",
              " 'series',\n",
              " 'set',\n",
              " 'seven',\n",
              " 'shadow',\n",
              " 'shadows',\n",
              " 'short',\n",
              " 'sisters',\n",
              " 'small',\n",
              " 'snow',\n",
              " 'son',\n",
              " 'song',\n",
              " 'soul',\n",
              " 'star',\n",
              " 'stars',\n",
              " 'stephanie',\n",
              " 'stephanie plum',\n",
              " 'stone',\n",
              " 'stories',\n",
              " 'storm',\n",
              " 'story',\n",
              " 'strange',\n",
              " 'street',\n",
              " 'summer',\n",
              " 'sun',\n",
              " 'sword',\n",
              " 'tale',\n",
              " 'tales',\n",
              " 'tell',\n",
              " 'things',\n",
              " 'time',\n",
              " 'tree',\n",
              " 'trilogy',\n",
              " 'true',\n",
              " 'true story',\n",
              " 'truth',\n",
              " 'twilight',\n",
              " 'universe',\n",
              " 'vampire',\n",
              " 'vampire hunter',\n",
              " 'vampires',\n",
              " 'vol',\n",
              " 'volume',\n",
              " 'walking',\n",
              " 'walking dead',\n",
              " 'war',\n",
              " 'wars',\n",
              " 'water',\n",
              " 'way',\n",
              " 'wheel',\n",
              " 'white',\n",
              " 'wicked',\n",
              " 'wife',\n",
              " 'wild',\n",
              " 'winter',\n",
              " 'witch',\n",
              " 'woman',\n",
              " 'women',\n",
              " 'world',\n",
              " 'year',\n",
              " 'years']"
            ]
          },
          "metadata": {
            "tags": []
          },
          "execution_count": 169
        }
      ]
    },
    {
      "cell_type": "code",
      "metadata": {
        "colab": {
          "base_uri": "https://localhost:8080/"
        },
        "id": "4MWrLAWxS2DL",
        "outputId": "b8bcbcf6-282c-4622-f02e-1c0c7a43d9ea"
      },
      "source": [
        "from sklearn.metrics.pairwise import cosine_similarity\n",
        "cosine_sim_titles = cosine_similarity(title_matrix, title_matrix)\n",
        "cosine_sim_titles.shape\n",
        "\n",
        "#Get books which are similar to a given title\n",
        "title_id = 100\n",
        "books_title['title'].iloc[title_id]\n",
        "\n",
        "#Find out what features have been considered  by the vectorizer for a given title ?\n",
        "feature_array = np.squeeze(title_matrix[title_id].toarray()) #squeeze activity matrix into array\n",
        "idx = np.where(feature_array > 0)\n",
        "idx[0]\n",
        "[features[x] for x in idx[0]]"
      ],
      "execution_count": 171,
      "outputs": [
        {
          "output_type": "execute_result",
          "data": {
            "text/plain": [
              "['day', 'pretty']"
            ]
          },
          "metadata": {
            "tags": []
          },
          "execution_count": 171
        }
      ]
    },
    {
      "cell_type": "code",
      "metadata": {
        "colab": {
          "base_uri": "https://localhost:8080/"
        },
        "id": "dxR8iYBuS8tb",
        "outputId": "2f6abdb3-b2d2-499f-93fc-eb1fd3340e94"
      },
      "source": [
        "idx[0]"
      ],
      "execution_count": 172,
      "outputs": [
        {
          "output_type": "execute_result",
          "data": {
            "text/plain": [
              "array([ 63, 179])"
            ]
          },
          "metadata": {
            "tags": []
          },
          "execution_count": 172
        }
      ]
    },
    {
      "cell_type": "code",
      "metadata": {
        "colab": {
          "base_uri": "https://localhost:8080/"
        },
        "id": "MM-upgZITB9m",
        "outputId": "06700a07-9a5b-4f6a-8487-ae12959b4179"
      },
      "source": [
        "n = 15 #how many books to be recommended\n",
        "top_n_idx = np.flip(np.argsort(cosine_sim_titles[title_id,]), axis = 0)[0:n]\n",
        "top_n_sim_values = cosine_sim_titles[title_id, top_n_idx]\n",
        "top_n_sim_values"
      ],
      "execution_count": 173,
      "outputs": [
        {
          "output_type": "execute_result",
          "data": {
            "text/plain": [
              "array([1.        , 0.70710678, 0.70710678, 0.70710678, 0.70710678,\n",
              "       0.70710678, 0.70710678, 0.70710678, 0.70710678, 0.70710678,\n",
              "       0.70710678, 0.70710678, 0.70710678, 0.70710678, 0.70710678])"
            ]
          },
          "metadata": {
            "tags": []
          },
          "execution_count": 173
        }
      ]
    },
    {
      "cell_type": "code",
      "metadata": {
        "colab": {
          "base_uri": "https://localhost:8080/"
        },
        "id": "ohbGDEixTEpD",
        "outputId": "03327f6c-227a-4043-b8dd-806f139aeea9"
      },
      "source": [
        "top_n_idx = top_n_idx[top_n_sim_values > 0]\n",
        "#Matching books\n",
        "books_title['title'].iloc[top_n_idx]"
      ],
      "execution_count": 174,
      "outputs": [
        {
          "output_type": "execute_result",
          "data": {
            "text/plain": [
              "100                                Me Talk Pretty One Day\n",
              "3729                                            Labor Day\n",
              "988                                 The Day of the Jackal\n",
              "836                             Every Day (Every Day, #1)\n",
              "2348    No Easy Day: The Firsthand Account of the Miss...\n",
              "3311                                          Pretty Baby\n",
              "6804                     Graduation Day (The Testing, #3)\n",
              "6886                                 Day Watch (Watch #2)\n",
              "5765                          The Given Day (Coughlin #1)\n",
              "783                                      For One More Day\n",
              "9210             Beyond Exile (Day by Day Armageddon,# 2)\n",
              "9703    The Pretty Committee Strikes Back (The Clique,...\n",
              "9637                                 Day 21 (The 100, #2)\n",
              "7330                                      Pretty in Plaid\n",
              "7707                            A Grown-Up Kind of Pretty\n",
              "Name: title, dtype: object"
            ]
          },
          "metadata": {
            "tags": []
          },
          "execution_count": 174
        }
      ]
    },
    {
      "cell_type": "code",
      "metadata": {
        "id": "ebd7TmSRTHHa"
      },
      "source": [
        "def return_sim_books(title_id, title_matrix, vectorizer, top_n = 10):\n",
        "    \n",
        "    # generate sim matrix\n",
        "    sim_matrix = cosine_similarity(title_matrix, title_matrix)\n",
        "    features = vectorizer.get_feature_names()\n",
        "\n",
        "    top_n_idx = np.flip(np.argsort(sim_matrix[title_id,]),axis=0)[0:top_n]\n",
        "    top_n_sim_values = sim_matrix[title_id, top_n_idx]\n",
        "    \n",
        "    # find top n with values > 0\n",
        "    top_n_idx = top_n_idx[top_n_sim_values > 0]\n",
        "    scores = top_n_sim_values[top_n_sim_values > 0]\n",
        "    \n",
        "    \n",
        "    # find features from the vectorized matrix\n",
        "    sim_books_idx = books_title['title'].iloc[top_n_idx].index\n",
        "    words = []\n",
        "    for book_idx in sim_books_idx:\n",
        "        try:\n",
        "            feature_array = np.squeeze(title_matrix[book_idx,].toarray())\n",
        "        except:\n",
        "            feature_array = np.squeeze(title_matrix[book_idx,])\n",
        "        idx = np.where(feature_array > 0)\n",
        "        words.append([\" , \".join([features[i] for i in idx[0]])])\n",
        "        \n",
        "    # collate results\n",
        "    res = pd.DataFrame({\"book_title\" : books_title['title'].iloc[title_id],\n",
        "           \"sim_books\": books_title['title'].iloc[top_n_idx].values,\"words\":words,\n",
        "           \"scores\":scores}, columns = [\"book_title\",\"sim_books\",\"scores\",\"words\"])\n",
        "    \n",
        "    \n",
        "    return res"
      ],
      "execution_count": 175,
      "outputs": []
    },
    {
      "cell_type": "code",
      "metadata": {
        "colab": {
          "base_uri": "https://localhost:8080/",
          "height": 63
        },
        "id": "YeqDeAW0Tr4k",
        "outputId": "9db7f66f-f23b-4a06-b965-145bd5203835"
      },
      "source": [
        "vect = CountVectorizer(analyzer='word',ngram_range=(1,2),stop_words='english', min_df = 0.001)\n",
        "vect.fit(books_title['title'])\n",
        "title_matrix = vect.transform(books_title['title'])\n",
        "print(books_title['title'][10])\n",
        "return_sim_books(10,title_matrix,vect,top_n=10)"
      ],
      "execution_count": 180,
      "outputs": [
        {
          "output_type": "stream",
          "text": [
            "The Kite Runner\n"
          ],
          "name": "stdout"
        },
        {
          "output_type": "execute_result",
          "data": {
            "text/html": [
              "<div>\n",
              "<style scoped>\n",
              "    .dataframe tbody tr th:only-of-type {\n",
              "        vertical-align: middle;\n",
              "    }\n",
              "\n",
              "    .dataframe tbody tr th {\n",
              "        vertical-align: top;\n",
              "    }\n",
              "\n",
              "    .dataframe thead th {\n",
              "        text-align: right;\n",
              "    }\n",
              "</style>\n",
              "<table border=\"1\" class=\"dataframe\">\n",
              "  <thead>\n",
              "    <tr style=\"text-align: right;\">\n",
              "      <th></th>\n",
              "      <th>book_title</th>\n",
              "      <th>sim_books</th>\n",
              "      <th>scores</th>\n",
              "      <th>words</th>\n",
              "    </tr>\n",
              "  </thead>\n",
              "  <tbody>\n",
              "  </tbody>\n",
              "</table>\n",
              "</div>"
            ],
            "text/plain": [
              "Empty DataFrame\n",
              "Columns: [book_title, sim_books, scores, words]\n",
              "Index: []"
            ]
          },
          "metadata": {
            "tags": []
          },
          "execution_count": 180
        }
      ]
    },
    {
      "cell_type": "markdown",
      "metadata": {
        "id": "WW3eEd8XTUt3"
      },
      "source": [
        "Using CountVectorizer we could extract text from book titles and recommend similar titles. A limitation I came across was for titles like \"The Kite Runner\" & \"The Dinner\". It was unable to recommend similar books because of the rare words like kite and dinner in the dataset so we have to look at other better ways for recommendations.\n",
        "\n",
        "Further steps, I will use Tf-Idf and Rake to see which of these give us better results."
      ]
    },
    {
      "cell_type": "markdown",
      "metadata": {
        "id": "zhvqT-onU7xn"
      },
      "source": [
        "Initialize Tfidf vectorizer & fit into title column\n",
        "Calculate cosine similarity\n",
        "\n",
        "Convert all titles into a Series associated with book index numbers\n",
        "\n",
        "Function that gets book recommendations based on the cosine similarity score of book titles"
      ]
    },
    {
      "cell_type": "code",
      "metadata": {
        "colab": {
          "base_uri": "https://localhost:8080/"
        },
        "id": "gLbAGH7nTOFf",
        "outputId": "1d8d4690-1560-4d90-8475-dd75fab71c8b"
      },
      "source": [
        "from sklearn.feature_extraction.text import TfidfVectorizer\n",
        "from sklearn.metrics.pairwise import linear_kernel\n",
        "\n",
        "tf = TfidfVectorizer(analyzer = 'word', ngram_range = (1,2), min_df = 0, stop_words = 'english')\n",
        "tfidf_matrix = tf.fit_transform(books_title['title'])\n",
        "cosine_sim = cosine_similarity(tfidf_matrix, tfidf_matrix)\n",
        "cosine_sim"
      ],
      "execution_count": 179,
      "outputs": [
        {
          "output_type": "execute_result",
          "data": {
            "text/plain": [
              "array([[1., 0., 0., ..., 0., 0., 0.],\n",
              "       [0., 1., 0., ..., 0., 0., 0.],\n",
              "       [0., 0., 1., ..., 0., 0., 0.],\n",
              "       ...,\n",
              "       [0., 0., 0., ..., 1., 0., 0.],\n",
              "       [0., 0., 0., ..., 0., 1., 0.],\n",
              "       [0., 0., 0., ..., 0., 0., 1.]])"
            ]
          },
          "metadata": {
            "tags": []
          },
          "execution_count": 179
        }
      ]
    },
    {
      "cell_type": "code",
      "metadata": {
        "id": "5uXWcbPrTnlS"
      },
      "source": [
        "titles = books_title['title']\n",
        "indices = pd.Series(books_title.index, index = books_title['title']) #converting all titles into a Series\n",
        "\n",
        "#Function that gets book recommendations based on the cosine similarity score of book titles\n",
        "def book_recommendations(title, n):\n",
        "    idx = indices[title]\n",
        "    sim_scores = list(enumerate(cosine_sim[idx]))\n",
        "    sim_scores = sorted(sim_scores, key = lambda x:x[1], reverse = True)\n",
        "    sim_scores = sim_scores[1:n+1]\n",
        "    book_indices = [i[0] for i in sim_scores]\n",
        "    return titles.iloc[book_indices]"
      ],
      "execution_count": 181,
      "outputs": []
    },
    {
      "cell_type": "code",
      "metadata": {
        "colab": {
          "base_uri": "https://localhost:8080/"
        },
        "id": "G7gSIMytTvrM",
        "outputId": "e7c40702-0d6d-4419-c544-1519a5ae103f"
      },
      "source": [
        "#Recommend n books for a book having index 1\n",
        "book_index = 10\n",
        "n = 20\n",
        "\n",
        "print(books_title['title'][book_index])\n",
        "book_recommendations(books_title.title[book_index],n)"
      ],
      "execution_count": 182,
      "outputs": [
        {
          "output_type": "stream",
          "text": [
            "The Kite Runner\n"
          ],
          "name": "stdout"
        },
        {
          "output_type": "execute_result",
          "data": {
            "text/plain": [
              "8946                                        Once a Runner\n",
              "90                      The Maze Runner (Maze Runner, #1)\n",
              "375                      The Death Cure (Maze Runner, #3)\n",
              "945                    The Kill Order (Maze Runner, #0.5)\n",
              "258                   The Scorch Trials (Maze Runner, #2)\n",
              "6711    Ultramarathon Man: Confessions of an All-Night...\n",
              "0                 The Hunger Games (The Hunger Games, #1)\n",
              "1       Harry Potter and the Sorcerer's Stone (Harry P...\n",
              "2                                 Twilight (Twilight, #1)\n",
              "3                                   To Kill a Mockingbird\n",
              "4                                        The Great Gatsby\n",
              "5                                  The Fault in Our Stars\n",
              "6                                              The Hobbit\n",
              "7                                  The Catcher in the Rye\n",
              "8                   Angels & Demons  (Robert Langdon, #1)\n",
              "9                                     Pride and Prejudice\n",
              "11                              Divergent (Divergent, #1)\n",
              "12                                                   1984\n",
              "13                                            Animal Farm\n",
              "14                              The Diary of a Young Girl\n",
              "Name: title, dtype: object"
            ]
          },
          "metadata": {
            "tags": []
          },
          "execution_count": 182
        }
      ]
    },
    {
      "cell_type": "code",
      "metadata": {
        "colab": {
          "base_uri": "https://localhost:8080/"
        },
        "id": "GYxfq91uTz2R",
        "outputId": "ae12b0a8-e930-4a2d-c99a-7da7905163b1"
      },
      "source": [
        "book_recommendations('A Tale of Two Cities',3)"
      ],
      "execution_count": 183,
      "outputs": [
        {
          "output_type": "execute_result",
          "data": {
            "text/plain": [
              "5871    A Tale of Two Cities / Great Expectations\n",
              "2697                             Invisible Cities\n",
              "1699                    A Tale for the Time Being\n",
              "Name: title, dtype: object"
            ]
          },
          "metadata": {
            "tags": []
          },
          "execution_count": 183
        }
      ]
    },
    {
      "cell_type": "code",
      "metadata": {
        "id": "FW1w99spWWRb"
      },
      "source": [
        ""
      ],
      "execution_count": null,
      "outputs": []
    },
    {
      "cell_type": "code",
      "metadata": {
        "id": "0mui4fYKWV7c"
      },
      "source": [
        ""
      ],
      "execution_count": null,
      "outputs": []
    },
    {
      "cell_type": "markdown",
      "metadata": {
        "id": "GBsqOG-AWVVH"
      },
      "source": [
        ""
      ]
    },
    {
      "cell_type": "code",
      "metadata": {
        "id": "wmGs50EqaX9q"
      },
      "source": [
        "content_data = df4[['original_title','authors','average_rating']]\n",
        "content_data = content_data.astype(str)\n",
        "\n",
        "content_data['content'] = content_data['original_title'] + ' ' + content_data['authors'] + ' ' + content_data['average_rating']\n",
        "\n",
        "content_data = content_data.reset_index()\n",
        "indices = pd.Series(content_data.index, index=content_data['original_title'])"
      ],
      "execution_count": 198,
      "outputs": []
    },
    {
      "cell_type": "code",
      "metadata": {
        "colab": {
          "base_uri": "https://localhost:8080/"
        },
        "id": "gGxM4_GHaiJ4",
        "outputId": "fce5ae31-3e96-4838-b864-f6942494c3c1"
      },
      "source": [
        "tfidf = TfidfVectorizer(stop_words='english')\n",
        "\n",
        "#Construct the required TF-IDF matrix by fitting and transforming the data\n",
        "tfidf_matrix = tfidf.fit_transform(content_data['authors'])\n",
        "\n",
        "#Output the shape of tfidf_matrix\n",
        "tfidf_matrix.shape"
      ],
      "execution_count": 199,
      "outputs": [
        {
          "output_type": "execute_result",
          "data": {
            "text/plain": [
              "(10000, 6175)"
            ]
          },
          "metadata": {
            "tags": []
          },
          "execution_count": 199
        }
      ]
    },
    {
      "cell_type": "code",
      "metadata": {
        "id": "7A4zcvUgWPGF"
      },
      "source": [
        "cosine_sim_author = linear_kernel(tfidf_matrix, tfidf_matrix)"
      ],
      "execution_count": 200,
      "outputs": []
    },
    {
      "cell_type": "markdown",
      "metadata": {
        "id": "JXd9hw0tap4M"
      },
      "source": [
        "author wise recommodation\n",
        "\n",
        "In [35]:\n"
      ]
    },
    {
      "cell_type": "code",
      "metadata": {
        "id": "TivfG_YNZ6z1"
      },
      "source": [
        "def get_recommendations_books(title, cosine_sim=cosine_sim_author):\n",
        "    idx = indices[title]\n",
        "\n",
        "    # Get the pairwsie similarity scores of all books with that book\n",
        "    sim_scores = list(enumerate(cosine_sim_author[idx]))\n",
        "\n",
        "    # Sort the books based on the similarity scores\n",
        "    sim_scores = sorted(sim_scores, key=lambda x: x[1], reverse=True)\n",
        "\n",
        "    # Get the scores of the 10 most similar books\n",
        "    sim_scores = sim_scores[1:11]\n",
        "\n",
        "    # Get the book indices\n",
        "    book_indices = [i[0] for i in sim_scores]\n",
        "\n",
        "    # Return the top 10 most similar books\n",
        "    return list(content_data['original_title'].iloc[book_indices])"
      ],
      "execution_count": 201,
      "outputs": []
    },
    {
      "cell_type": "code",
      "metadata": {
        "id": "Xop0s-JiZ_TA"
      },
      "source": [
        "def author_book_shows(book):\n",
        "    for book in book:\n",
        "        print(book)"
      ],
      "execution_count": 202,
      "outputs": []
    },
    {
      "cell_type": "code",
      "metadata": {
        "colab": {
          "base_uri": "https://localhost:8080/"
        },
        "id": "ukf3-oaLat_S",
        "outputId": "f01da0a9-2c66-4742-867a-d631fbea89db"
      },
      "source": [
        "books1 = get_recommendations_books('The Hobbit', cosine_sim_author)\n",
        "author_book_shows(books1)"
      ],
      "execution_count": 204,
      "outputs": [
        {
          "output_type": "stream",
          "text": [
            "The Hobbit or There and Back Again\n",
            " The Fellowship of the Ring\n",
            "The Two Towers\n",
            "The Return of the King\n",
            "The Lord of the Rings\n",
            "The Hobbit and The Lord of the Rings\n",
            "Unfinished Tales of Númenor and Middle-Earth\n",
            "Nikola Tesla: Imagination and the Man That Invented the 20th Century\n",
            "Entwined\n",
            "The Children of Húrin\n"
          ],
          "name": "stdout"
        }
      ]
    },
    {
      "cell_type": "code",
      "metadata": {
        "colab": {
          "base_uri": "https://localhost:8080/"
        },
        "id": "0IcIMiFUaBom",
        "outputId": "9e1fcfd6-b208-4959-bf1c-181f394aa882"
      },
      "source": [
        "books2 =get_recommendations_books('Shadow Kiss', cosine_sim_author)\n",
        "author_book_shows(books2)"
      ],
      "execution_count": 203,
      "outputs": [
        {
          "output_type": "stream",
          "text": [
            "Frostbite\n",
            "Shadow Kiss\n",
            "Spirit Bound\n",
            "Blood Promise\n",
            "Last Sacrifice \n",
            "Bloodlines\n",
            "The Golden Lily\n",
            "The Indigo Spell\n",
            "The Fiery Heart\n",
            "nan\n"
          ],
          "name": "stdout"
        }
      ]
    },
    {
      "cell_type": "code",
      "metadata": {
        "colab": {
          "base_uri": "https://localhost:8080/"
        },
        "id": "uOjTxuEraM7C",
        "outputId": "1c42ee88-810a-4287-ec78-bd50c185b440"
      },
      "source": [
        "books3 = get_recommendations_books('Harry Potter and the Goblet of Fire', cosine_sim_author)\n",
        "author_book_shows(books3)"
      ],
      "execution_count": 205,
      "outputs": [
        {
          "output_type": "stream",
          "text": [
            "Harry Potter and the Order of the Phoenix\n",
            "Harry Potter and the Chamber of Secrets\n",
            "Harry Potter and the Goblet of Fire\n",
            "Harry Potter and the Deathly Hallows\n",
            "Harry Potter and the Half-Blood Prince\n",
            "Harry Potter Boxed Set Books 1-4\n",
            "nan\n",
            "Harry Potter and the Prisoner of Azkaban\n",
            "The Casual Vacancy\n",
            "The Tales of Beedle the Bard\n"
          ],
          "name": "stdout"
        }
      ]
    },
    {
      "cell_type": "markdown",
      "metadata": {
        "id": "qsJ7r-XqbI-G"
      },
      "source": [
        "# **content based filtering on multiple matrix**"
      ]
    },
    {
      "cell_type": "code",
      "metadata": {
        "id": "e7LN8Hz7aynW"
      },
      "source": [
        "count = CountVectorizer(stop_words='english')\n",
        "count_matrix = count.fit_transform(content_data['content'])\n",
        "\n",
        "cosine_sim_content = cosine_similarity(count_matrix, count_matrix)"
      ],
      "execution_count": 206,
      "outputs": []
    },
    {
      "cell_type": "code",
      "metadata": {
        "id": "Ch_jFO-ea2_Q"
      },
      "source": [
        "def get_recommendations(title, cosine_sim=cosine_sim_content):\n",
        "    idx = indices[title]\n",
        "\n",
        "    # Get the pairwsie similarity scores of all books with that book\n",
        "    sim_scores = list(enumerate(cosine_sim_content[idx]))\n",
        "\n",
        "    # Sort the books based on the similarity scores\n",
        "    sim_scores = sorted(sim_scores, key=lambda x: x[1], reverse=True)\n",
        "\n",
        "    # Get the scores of the 10 most similar books\n",
        "    sim_scores = sim_scores[1:11]\n",
        "\n",
        "    # Get the book indices\n",
        "    book_indices = [i[0] for i in sim_scores]\n",
        "\n",
        "    # Return the top 10 most similar books\n",
        "    return list(content_data['original_title'].iloc[book_indices])"
      ],
      "execution_count": 207,
      "outputs": []
    },
    {
      "cell_type": "code",
      "metadata": {
        "id": "dNV0ulGga5JA"
      },
      "source": [
        "def book_shows(book):\n",
        "    for book in book:\n",
        "        print(book)"
      ],
      "execution_count": 208,
      "outputs": []
    },
    {
      "cell_type": "code",
      "metadata": {
        "colab": {
          "base_uri": "https://localhost:8080/"
        },
        "id": "XWbIwPPLa7bb",
        "outputId": "cedca3a0-2d61-4ac2-e1ab-8d23b65d2c5a"
      },
      "source": [
        "books4 = get_recommendations('The Hobbit', cosine_sim_content)\n",
        "book_shows(books4)"
      ],
      "execution_count": 209,
      "outputs": [
        {
          "output_type": "stream",
          "text": [
            "The Hobbit or There and Back Again\n",
            "The Hobbit and The Lord of the Rings\n",
            "No, David!\n",
            "The History of the Hobbit, Part One: Mr. Baggins\n",
            "David Gets in Trouble\n",
            "nan\n",
            "The Silmarillion\n",
            "The Children of Húrin\n",
            "Unfinished Tales of Númenor and Middle-Earth\n",
            "The Two Towers\n"
          ],
          "name": "stdout"
        }
      ]
    },
    {
      "cell_type": "code",
      "metadata": {
        "colab": {
          "base_uri": "https://localhost:8080/"
        },
        "id": "kgWB7wTOa9yN",
        "outputId": "d673f342-56e4-4973-e64d-36dab3fdc779"
      },
      "source": [
        "books5 =get_recommendations('Shadow Kiss', cosine_sim_content)\n",
        "book_shows(books5)"
      ],
      "execution_count": 210,
      "outputs": [
        {
          "output_type": "stream",
          "text": [
            "Spirit Bound\n",
            "Silver Shadows\n",
            "Frostbite\n",
            "nan\n",
            "Last Sacrifice \n",
            "Bloodlines\n",
            "nan\n",
            "Storm Born\n",
            "Succubus On Top\n",
            "Blood Promise\n"
          ],
          "name": "stdout"
        }
      ]
    },
    {
      "cell_type": "code",
      "metadata": {
        "colab": {
          "base_uri": "https://localhost:8080/"
        },
        "id": "x7-fkjJ8bAHg",
        "outputId": "9213053c-3611-4765-d483-b8d705261bab"
      },
      "source": [
        "books6 =get_recommendations('The Two Towers', cosine_sim_content)\n",
        "book_shows(books6)"
      ],
      "execution_count": 211,
      "outputs": [
        {
          "output_type": "stream",
          "text": [
            "Towers of Midnight\n",
            "The Silmarillion\n",
            "The Children of Húrin\n",
            "Unfinished Tales of Númenor and Middle-Earth\n",
            "The Hobbit or There and Back Again\n",
            "Reckless\n",
            " The Fellowship of the Ring\n",
            "The Return of the King\n",
            "The Lord of the Rings\n",
            "Last Sacrifice \n"
          ],
          "name": "stdout"
        }
      ]
    },
    {
      "cell_type": "code",
      "metadata": {
        "colab": {
          "base_uri": "https://localhost:8080/"
        },
        "id": "ryV8iNdcbDIc",
        "outputId": "903dc121-1680-4b9d-8440-9d105d8a20bd"
      },
      "source": [
        "books7 = get_recommendations('Harry Potter and the Goblet of Fire', cosine_sim_content)\n",
        "book_shows(books7)"
      ],
      "execution_count": 212,
      "outputs": [
        {
          "output_type": "stream",
          "text": [
            "Harry Potter and the Prisoner of Azkaban\n",
            "Harry Potter and the Philosopher's Stone\n",
            "Harry Potter and the Order of the Phoenix\n",
            "Harry Potter and the Chamber of Secrets\n",
            "Harry Potter and the Deathly Hallows\n",
            "Harry Potter and the Half-Blood Prince\n",
            "Harry Potter Boxed Set Books 1-4\n",
            "Harry Potter Collection (Harry Potter, #1-6)\n",
            "nan\n",
            "Complete Harry Potter Boxed Set\n"
          ],
          "name": "stdout"
        }
      ]
    },
    {
      "cell_type": "markdown",
      "metadata": {
        "id": "pWi7pUTbgDUW"
      },
      "source": [
        "Most of the books in the wishlist are predicted as 4.5 or more which is expected.\n"
      ]
    }
  ]
}